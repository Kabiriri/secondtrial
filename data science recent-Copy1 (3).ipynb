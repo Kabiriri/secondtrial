{
 "cells": [
  {
   "cell_type": "code",
   "execution_count": 2,
   "id": "63ba16d6",
   "metadata": {},
   "outputs": [],
   "source": [
    "#EXPRESSIONS"
   ]
  },
  {
   "cell_type": "code",
   "execution_count": 5,
   "id": "71137723",
   "metadata": {},
   "outputs": [
    {
     "name": "stdout",
     "output_type": "stream",
     "text": [
      "Hello william\n"
     ]
    }
   ],
   "source": [
    "print('Hello', end= ' ')\n",
    "print('william')\n"
   ]
  },
  {
   "cell_type": "code",
   "execution_count": 7,
   "id": "e2bdd9f5",
   "metadata": {},
   "outputs": [
    {
     "name": "stdout",
     "output_type": "stream",
     "text": [
      "enter your name: misheck\n",
      "my name is misheck\n"
     ]
    }
   ],
   "source": [
    "name= input(\"enter your name: \")\n",
    "print(\"my name is\", name)\n"
   ]
  },
  {
   "cell_type": "code",
   "execution_count": 10,
   "id": "331f4984",
   "metadata": {},
   "outputs": [
    {
     "name": "stdout",
     "output_type": "stream",
     "text": [
      "enter num1: 12\n",
      "enter num2: 21\n",
      "33\n"
     ]
    }
   ],
   "source": [
    "num1= input(\"enter num1: \") \n",
    "num2=input(\"enter num2: \")\n",
    "print(int(num1)+ int(num2))"
   ]
  },
  {
   "cell_type": "code",
   "execution_count": 12,
   "id": "a6525e1a",
   "metadata": {},
   "outputs": [
    {
     "data": {
      "text/plain": [
       "{1, 2, 3, 'a', 'b', 'c'}"
      ]
     },
     "execution_count": 12,
     "metadata": {},
     "output_type": "execute_result"
    }
   ],
   "source": [
    "set([1,2,3,'a', 'b', 'c'])"
   ]
  },
  {
   "cell_type": "code",
   "execution_count": 14,
   "id": "9a82020e",
   "metadata": {},
   "outputs": [
    {
     "name": "stdout",
     "output_type": "stream",
     "text": [
      "enter num 35\n",
      "enter num45\n",
      "0\n"
     ]
    }
   ],
   "source": [
    "num3= input(\"enter num 3\")\n",
    "num4= input(\"enter num4\")\n",
    "print(int(num3) - int(num4))"
   ]
  },
  {
   "cell_type": "markdown",
   "id": "490ad322",
   "metadata": {},
   "source": [
    "#Format"
   ]
  },
  {
   "cell_type": "code",
   "execution_count": 20,
   "id": "8e3cd367",
   "metadata": {},
   "outputs": [
    {
     "name": "stdout",
     "output_type": "stream",
     "text": [
      "enter num 3: 45\n",
      "enter num4: 2\n",
      "The final answer is 1\n"
     ]
    }
   ],
   "source": [
    "num3= input(\"enter num 3: \")\n",
    "num4= input(\"enter num4: \")\n",
    "sub2= int(num3) % int(num4)\n",
    "print(f\"The final answer is {sub2}\")"
   ]
  },
  {
   "cell_type": "code",
   "execution_count": 57,
   "id": "04619bec",
   "metadata": {},
   "outputs": [
    {
     "name": "stdout",
     "output_type": "stream",
     "text": [
      "enter num 3: 6\n",
      "7776\n"
     ]
    }
   ],
   "source": [
    "num3= int(input(\"enter num 3: \"))\n",
    "num4= int(num3**5)\n",
    "print(num4)\n"
   ]
  },
  {
   "cell_type": "code",
   "execution_count": 24,
   "id": "debe4bf0",
   "metadata": {},
   "outputs": [
    {
     "name": "stdout",
     "output_type": "stream",
     "text": [
      "enter num 3: 3\n",
      "9\n"
     ]
    }
   ],
   "source": [
    "num3= int(input(\"enter num 3: \"))\n",
    "num4= int(num3**2)\n",
    "print(num4)\n",
    "\n"
   ]
  },
  {
   "cell_type": "code",
   "execution_count": 25,
   "id": "80a7a4f0",
   "metadata": {},
   "outputs": [
    {
     "name": "stdout",
     "output_type": "stream",
     "text": [
      "enter num 3: 7\n",
      "enter num4: 4\n",
      "The final answer is  1.75\n"
     ]
    }
   ],
   "source": [
    "num3= input(\"enter num 3: \")\n",
    "num4= input(\"enter num4: \")\n",
    "sub2= int(num3) / int(num4)\n",
    "print(f\"The final answer is {sub2: .2f}\")\n"
   ]
  },
  {
   "cell_type": "markdown",
   "id": "4df1e9a1",
   "metadata": {},
   "source": [
    " != not equal to\n",
    "== equal to \n",
    "> greater than \n",
    ">= greater than or equal to \n",
    "!= not equal to\n"
   ]
  },
  {
   "cell_type": "code",
   "execution_count": 29,
   "id": "38bf1a16",
   "metadata": {},
   "outputs": [
    {
     "name": "stdout",
     "output_type": "stream",
     "text": [
      "enter num 3: 5\n",
      "enter num4: 7\n",
      "That is True\n"
     ]
    }
   ],
   "source": [
    "num3= input(\"enter num 3: \")\n",
    "num4= input(\"enter num4: \")\n",
    "sub2= num3!=num4\n",
    "print(f\"That is {sub2}\")\n",
    "      "
   ]
  },
  {
   "cell_type": "markdown",
   "id": "5c39a021",
   "metadata": {},
   "source": [
    "#logical expression"
   ]
  },
  {
   "cell_type": "code",
   "execution_count": 35,
   "id": "1e1fd24b",
   "metadata": {},
   "outputs": [
    {
     "data": {
      "text/plain": [
       "'Misheck'"
      ]
     },
     "execution_count": 35,
     "metadata": {},
     "output_type": "execute_result"
    }
   ],
   "source": [
    "my_dict = {\n",
    "    \"first_name\": 'Misheck',\n",
    "    \"second_name\": 'Kibunja',\n",
    "    \"age\": 27,\n",
    "    \"status\": \"S\"\n",
    "    \n",
    "}   \n",
    "my_dict[\"first_name\"]"
   ]
  },
  {
   "cell_type": "code",
   "execution_count": 40,
   "id": "410656bd",
   "metadata": {
    "scrolled": true
   },
   "outputs": [
    {
     "data": {
      "text/plain": [
       "'wow we love coding and strings!'"
      ]
     },
     "execution_count": 40,
     "metadata": {},
     "output_type": "execute_result"
    }
   ],
   "source": [
    "sentence = \"woW WE LOVE cOdInG and strINGS!\"\n",
    "str.lower(sentence)"
   ]
  },
  {
   "cell_type": "code",
   "execution_count": 51,
   "id": "ce8006a3",
   "metadata": {},
   "outputs": [
    {
     "name": "stdout",
     "output_type": "stream",
     "text": [
      "Hello World\n"
     ]
    }
   ],
   "source": [
    "name = \"Bart Simpson\"\n",
    "new_name= string.replace(\"Simpson\", \"Flanders\")\n",
    "print(new_name)\n"
   ]
  },
  {
   "cell_type": "code",
   "execution_count": 54,
   "id": "fbd22c66",
   "metadata": {},
   "outputs": [
    {
     "name": "stdout",
     "output_type": "stream",
     "text": [
      "<class 'str'>\n"
     ]
    },
    {
     "data": {
      "text/plain": [
       "7"
      ]
     },
     "execution_count": 54,
     "metadata": {},
     "output_type": "execute_result"
    }
   ],
   "source": [
    "name= 'Misheck'\n",
    "print(type(name))\n",
    "len(name)"
   ]
  },
  {
   "cell_type": "code",
   "execution_count": 56,
   "id": "90b10704",
   "metadata": {},
   "outputs": [
    {
     "name": "stdout",
     "output_type": "stream",
     "text": [
      "k\n"
     ]
    }
   ],
   "source": [
    "name= 'Misheck'\n",
    "print(name[-1])\n"
   ]
  },
  {
   "cell_type": "code",
   "execution_count": 58,
   "id": "06dcbf61",
   "metadata": {},
   "outputs": [
    {
     "name": "stdout",
     "output_type": "stream",
     "text": [
      "sh\n"
     ]
    }
   ],
   "source": [
    "name= 'Misheck'\n",
    "print(name[2:4])"
   ]
  },
  {
   "cell_type": "code",
   "execution_count": 62,
   "id": "502d716d",
   "metadata": {},
   "outputs": [
    {
     "name": "stdout",
     "output_type": "stream",
     "text": [
      "Mis\n"
     ]
    }
   ],
   "source": [
    "name= 'Misheck'\n",
    "print(name[:3])"
   ]
  },
  {
   "cell_type": "code",
   "execution_count": 67,
   "id": "2c898f7a",
   "metadata": {},
   "outputs": [
    {
     "name": "stdout",
     "output_type": "stream",
     "text": [
      "jasica\n"
     ]
    }
   ],
   "source": [
    "list=[\"misheck\",\"jane\", \"jasica\"]\n",
    "print(list[2])"
   ]
  },
  {
   "cell_type": "code",
   "execution_count": 69,
   "id": "d60469a0",
   "metadata": {},
   "outputs": [
    {
     "name": "stdout",
     "output_type": "stream",
     "text": [
      "enter your first name: asdfg\n",
      "enter your SECOND NAME: zxcv\n",
      "My name is asdfg zxcv\n"
     ]
    }
   ],
   "source": [
    "name1= input(\"enter your first name: \")\n",
    "name2= input(\"enter your SECOND NAME: \")\n",
    "print(f\"My name is {name1 + \" \" + name2 }\")"
   ]
  },
  {
   "cell_type": "markdown",
   "id": "775def83",
   "metadata": {},
   "source": [
    "###method\n"
   ]
  },
  {
   "cell_type": "code",
   "execution_count": 3,
   "id": "5546ec3d",
   "metadata": {},
   "outputs": [
    {
     "name": "stdout",
     "output_type": "stream",
     "text": [
      "enter your first name:     asdf adf\n",
      "asdf adf\n"
     ]
    }
   ],
   "source": [
    "myname= input(\"enter your first name: \").strip().upper().lower()\n",
    "print(myname)"
   ]
  },
  {
   "cell_type": "code",
   "execution_count": 5,
   "id": "c9fc1f85",
   "metadata": {},
   "outputs": [
    {
     "name": "stdout",
     "output_type": "stream",
     "text": [
      "enter your first name:     misheck kibunja\n",
      "My name is Misheck Kibunja\n"
     ]
    }
   ],
   "source": [
    "name= input(\"enter your first name: \").strip().upper().title().capitalize().title()\n",
    "\n",
    "print(f\"My name is {name}\" )\n"
   ]
  },
  {
   "cell_type": "code",
   "execution_count": 6,
   "id": "6e05f303",
   "metadata": {},
   "outputs": [
    {
     "data": {
      "text/plain": [
       "'1234 Abc street, Hometown USA'"
      ]
     },
     "execution_count": 6,
     "metadata": {},
     "output_type": "execute_result"
    }
   ],
   "source": [
    "num_to_string= \"1234\"\n",
    "full_address= num_to_string + \" \" + \"Abc street, Hometown USA\"\n",
    "full_address"
   ]
  },
  {
   "cell_type": "code",
   "execution_count": 7,
   "id": "aad3c5a3",
   "metadata": {},
   "outputs": [
    {
     "data": {
      "text/plain": [
       "[1, 2, 3, 'sad']"
      ]
     },
     "execution_count": 7,
     "metadata": {},
     "output_type": "execute_result"
    }
   ],
   "source": [
    "set= [1,2,3, \"sad\"]\n",
    "set"
   ]
  },
  {
   "cell_type": "markdown",
   "id": "3fc81cc2",
   "metadata": {},
   "source": [
    "#Data Structures"
   ]
  },
  {
   "cell_type": "markdown",
   "id": "bd06b95f",
   "metadata": {},
   "source": [
    "A. List: Any set of data enclosed in square brackets"
   ]
  },
  {
   "cell_type": "code",
   "execution_count": 10,
   "id": "fa52da9f",
   "metadata": {},
   "outputs": [
    {
     "name": "stdout",
     "output_type": "stream",
     "text": [
      "['banana', 'kiwi', 'orange']\n"
     ]
    }
   ],
   "source": [
    "fruit= [\"banana\", \"kiwi\", \"orange\"]\n",
    "print(fruit)"
   ]
  },
  {
   "cell_type": "code",
   "execution_count": 12,
   "id": "51454423",
   "metadata": {},
   "outputs": [
    {
     "name": "stdout",
     "output_type": "stream",
     "text": [
      "Help on method raw_input in module ipykernel.kernelbase:\n",
      "\n",
      "raw_input(prompt='') method of ipykernel.ipkernel.IPythonKernel instance\n",
      "    Forward raw_input to frontends\n",
      "\n",
      "    Raises\n",
      "    ------\n",
      "    StdinNotImplementedError if active frontend doesn't support stdin.\n",
      "\n"
     ]
    }
   ],
   "source": [
    "help(input)"
   ]
  },
  {
   "cell_type": "markdown",
   "id": "8fdd82e0",
   "metadata": {},
   "source": [
    "#tab to obtain any variable previously defined"
   ]
  },
  {
   "cell_type": "code",
   "execution_count": 14,
   "id": "dd8d1580",
   "metadata": {},
   "outputs": [
    {
     "data": {
      "text/plain": [
       "3"
      ]
     },
     "execution_count": 14,
     "metadata": {},
     "output_type": "execute_result"
    }
   ],
   "source": [
    "len(fruit)"
   ]
  },
  {
   "cell_type": "code",
   "execution_count": 15,
   "id": "a4b48f9c",
   "metadata": {},
   "outputs": [
    {
     "name": "stdout",
     "output_type": "stream",
     "text": [
      "kiwi\n"
     ]
    }
   ],
   "source": [
    "print(fruit[1])"
   ]
  },
  {
   "cell_type": "code",
   "execution_count": 17,
   "id": "694373c8",
   "metadata": {},
   "outputs": [
    {
     "data": {
      "text/plain": [
       "'r'"
      ]
     },
     "execution_count": 17,
     "metadata": {},
     "output_type": "execute_result"
    }
   ],
   "source": [
    "fruit[2][1]"
   ]
  },
  {
   "cell_type": "code",
   "execution_count": 18,
   "id": "c09ef81a",
   "metadata": {},
   "outputs": [],
   "source": [
    "my_list= (\"misheck\", 1, True, 10.40"
   ]
  },
  {
   "cell_type": "code",
   "execution_count": 19,
   "id": "04b102c4",
   "metadata": {},
   "outputs": [
    {
     "data": {
      "text/plain": [
       "['misheck', 1, True, 10.4]"
      ]
     },
     "execution_count": 19,
     "metadata": {},
     "output_type": "execute_result"
    }
   ],
   "source": [
    "my_list"
   ]
  },
  {
   "cell_type": "code",
   "execution_count": 20,
   "id": "d8743a9f",
   "metadata": {},
   "outputs": [
    {
     "data": {
      "text/plain": [
       "list"
      ]
     },
     "execution_count": 20,
     "metadata": {},
     "output_type": "execute_result"
    }
   ],
   "source": [
    "type(my_list)"
   ]
  },
  {
   "cell_type": "code",
   "execution_count": 22,
   "id": "1379a06b",
   "metadata": {},
   "outputs": [],
   "source": [
    "my_list[1]='Age' #we are updating the list"
   ]
  },
  {
   "cell_type": "code",
   "execution_count": 24,
   "id": "55ba0b8f",
   "metadata": {},
   "outputs": [
    {
     "data": {
      "text/plain": [
       "['misheck', 'Age', True, 10.4]"
      ]
     },
     "execution_count": 24,
     "metadata": {},
     "output_type": "execute_result"
    }
   ],
   "source": [
    "my_list"
   ]
  },
  {
   "cell_type": "code",
   "execution_count": 25,
   "id": "3ceba0dd",
   "metadata": {},
   "outputs": [],
   "source": [
    "lista= [1,2,3,4,5]"
   ]
  },
  {
   "cell_type": "code",
   "execution_count": 26,
   "id": "05c93ac9",
   "metadata": {},
   "outputs": [],
   "source": [
    "combined_list= my_list + lista # we can also use extend method ie my_list.extend(lista)"
   ]
  },
  {
   "cell_type": "code",
   "execution_count": 27,
   "id": "1b814d3b",
   "metadata": {},
   "outputs": [
    {
     "data": {
      "text/plain": [
       "['misheck', 'Age', True, 10.4, 1, 2, 3, 4, 5]"
      ]
     },
     "execution_count": 27,
     "metadata": {},
     "output_type": "execute_result"
    }
   ],
   "source": [
    "combined_list"
   ]
  },
  {
   "cell_type": "code",
   "execution_count": 31,
   "id": "4c99eab7",
   "metadata": {},
   "outputs": [
    {
     "name": "stdout",
     "output_type": "stream",
     "text": [
      "['misheck', 'Age', 'June', 'June', 'June', 'June', True, 10.4, 1, 2, 3, 4, 5]\n"
     ]
    }
   ],
   "source": [
    "combined_list.insert(2, \"June\")\n",
    "print(combined_list)     #we are inserting June between Age and True"
   ]
  },
  {
   "cell_type": "code",
   "execution_count": 33,
   "id": "709d647e",
   "metadata": {},
   "outputs": [
    {
     "name": "stdout",
     "output_type": "stream",
     "text": [
      "None\n"
     ]
    }
   ],
   "source": [
    "print(combined_list.append(\"January\"))"
   ]
  },
  {
   "cell_type": "code",
   "execution_count": 37,
   "id": "a208d81f",
   "metadata": {},
   "outputs": [
    {
     "data": {
      "text/plain": [
       "['misheck',\n",
       " 'Age',\n",
       " 'June',\n",
       " 'June',\n",
       " 'June',\n",
       " 'June',\n",
       " True,\n",
       " 10.4,\n",
       " 1,\n",
       " 2,\n",
       " 3,\n",
       " 4,\n",
       " 5,\n",
       " 'January',\n",
       " 'January',\n",
       " 'January',\n",
       " 'January',\n",
       " 'January']"
      ]
     },
     "execution_count": 37,
     "metadata": {},
     "output_type": "execute_result"
    }
   ],
   "source": [
    "combined_list.append(\"January\")\n",
    "combined_list                #append is used to insert at the last position of the list. Please note append, insert pop etc are methods. So\n",
    "#So it should be the variable_name.enter the method()"
   ]
  },
  {
   "cell_type": "code",
   "execution_count": 38,
   "id": "2b180e2b",
   "metadata": {},
   "outputs": [
    {
     "data": {
      "text/plain": [
       "['misheck',\n",
       " 'Age',\n",
       " 'June',\n",
       " 'June',\n",
       " 'June',\n",
       " 'June',\n",
       " True,\n",
       " 10.4,\n",
       " 1,\n",
       " 2,\n",
       " 3,\n",
       " 4,\n",
       " 5,\n",
       " 'January',\n",
       " 'January',\n",
       " 'January',\n",
       " 'January']"
      ]
     },
     "execution_count": 38,
     "metadata": {},
     "output_type": "execute_result"
    }
   ],
   "source": [
    "combined_list.remove(\"January\")\n",
    "combined_list"
   ]
  },
  {
   "cell_type": "markdown",
   "id": "1636d665",
   "metadata": {},
   "source": [
    "#Tuple"
   ]
  },
  {
   "cell_type": "markdown",
   "id": "00c8fb81",
   "metadata": {},
   "source": [
    "immutable, we use parenthesis() and just like lists they are ordered and the data can be of any type"
   ]
  },
  {
   "cell_type": "code",
   "execution_count": 53,
   "id": "c2012a08",
   "metadata": {},
   "outputs": [
    {
     "data": {
      "text/plain": [
       "('Nairobi', 'Eldoret', 'Mombasa', 'Nakuru')"
      ]
     },
     "execution_count": 53,
     "metadata": {},
     "output_type": "execute_result"
    }
   ],
   "source": [
    "cities= (\"Nairobi\", \"Eldoret\", \"Mombasa\", \"Nakuru\")\n",
    "cities"
   ]
  },
  {
   "cell_type": "markdown",
   "id": "3efbec4c",
   "metadata": {},
   "source": [
    "#we can change tuples to lists\n"
   ]
  },
  {
   "cell_type": "code",
   "execution_count": 54,
   "id": "e1a2207c",
   "metadata": {},
   "outputs": [
    {
     "data": {
      "text/plain": [
       "['Nairobi', 'Nakuru', 'Mombasa', 'Dubai']"
      ]
     },
     "execution_count": 54,
     "metadata": {},
     "output_type": "execute_result"
    }
   ],
   "source": [
    "cities= (\"Nairobi\", \"Nakuru\", 'Mombasa', 'Dubai')\n",
    "cities2= list(cities)\n",
    "cities2"
   ]
  },
  {
   "cell_type": "code",
   "execution_count": 63,
   "id": "3540291b",
   "metadata": {},
   "outputs": [
    {
     "data": {
      "text/plain": [
       "'www.vandelay.com'"
      ]
     },
     "execution_count": 63,
     "metadata": {},
     "output_type": "execute_result"
    }
   ],
   "source": [
    "web_address = 'vandelay.com' # 'www.vandelay.com'\n",
    "web_address2= 'www.'+ web_address\n",
    "web_address2"
   ]
  },
  {
   "cell_type": "code",
   "execution_count": 69,
   "id": "bc7e6894",
   "metadata": {},
   "outputs": [
    {
     "data": {
      "text/plain": [
       "('Nairobi', 'Nakuru', 'Mombasa', 'Dubai')"
      ]
     },
     "execution_count": 69,
     "metadata": {},
     "output_type": "execute_result"
    }
   ],
   "source": [
    "cities= (\"Nairobi\", \"Nakuru\", 'Mombasa', 'Dubai')\n",
    "cities"
   ]
  },
  {
   "cell_type": "code",
   "execution_count": 70,
   "id": "2041b740",
   "metadata": {},
   "outputs": [
    {
     "data": {
      "text/plain": [
       "('Nairobi', 'Nakuru', 'Mombasa', 'Dubai')"
      ]
     },
     "execution_count": 70,
     "metadata": {},
     "output_type": "execute_result"
    }
   ],
   "source": [
    "list(cities)\n",
    "cities"
   ]
  },
  {
   "cell_type": "markdown",
   "id": "9f11f52a",
   "metadata": {},
   "source": [
    "#changing a list to a set"
   ]
  },
  {
   "cell_type": "code",
   "execution_count": 1,
   "id": "4e254061",
   "metadata": {},
   "outputs": [
    {
     "data": {
      "text/plain": [
       "['Nairobi', 'Mombasa', 'Kisumu', 'Nairobi']"
      ]
     },
     "execution_count": 1,
     "metadata": {},
     "output_type": "execute_result"
    }
   ],
   "source": [
    "mishecks= [\"Nairobi\", \"Mombasa\", \"Kisumu\", \"Nairobi\"]\n",
    "mishecks"
   ]
  },
  {
   "cell_type": "code",
   "execution_count": 2,
   "id": "6261e042",
   "metadata": {},
   "outputs": [
    {
     "name": "stdout",
     "output_type": "stream",
     "text": [
      "['Nairobi', 'Mombasa', 'Kisumu', 'Nairobi']\n"
     ]
    }
   ],
   "source": [
    "print(mishecks)"
   ]
  },
  {
   "cell_type": "code",
   "execution_count": 3,
   "id": "a082da20",
   "metadata": {},
   "outputs": [
    {
     "data": {
      "text/plain": [
       "{'Kisumu', 'Mombasa', 'Nairobi'}"
      ]
     },
     "execution_count": 3,
     "metadata": {},
     "output_type": "execute_result"
    }
   ],
   "source": [
    "newmish= set(mishecks)\n",
    "newmish"
   ]
  },
  {
   "cell_type": "code",
   "execution_count": 6,
   "id": "ed8b9814",
   "metadata": {},
   "outputs": [
    {
     "name": "stdout",
     "output_type": "stream",
     "text": [
      "{1, 2, 3, 4, 5}\n"
     ]
    }
   ],
   "source": [
    "#updating a set in python\n",
    "\n",
    "set1 = {1, 2, 3}\n",
    "set2 = {3, 4, 5}\n",
    "\n",
    "new= set1.update(set2)\n",
    "print(set1)"
   ]
  },
  {
   "cell_type": "code",
   "execution_count": 9,
   "id": "1e108133",
   "metadata": {},
   "outputs": [],
   "source": [
    "#Union in a set\n",
    "\n",
    "#Returns unique elements "
   ]
  },
  {
   "cell_type": "code",
   "execution_count": 12,
   "id": "54116a94",
   "metadata": {},
   "outputs": [
    {
     "name": "stdout",
     "output_type": "stream",
     "text": [
      "{1, 2, 3, 4, 5, 6, 7, 8}\n"
     ]
    }
   ],
   "source": [
    "set1 = {1, 2, 3, 4, 5}\n",
    "set2 = {3, 4, 5, 6,7,8}\n",
    "\n",
    "# Perform the union\n",
    "result = set1.union(set2)\n",
    "\n",
    "print(result) "
   ]
  },
  {
   "cell_type": "code",
   "execution_count": 15,
   "id": "9aaa4e54",
   "metadata": {},
   "outputs": [
    {
     "name": "stdout",
     "output_type": "stream",
     "text": [
      "{2, 3}\n"
     ]
    }
   ],
   "source": [
    "#intersection\n",
    "\n",
    "#Returns elements that are present in both sets\n",
    "\n",
    "\n",
    "set1 = {1, 2, 3}\n",
    "set2 = {2, 3, 4}\n",
    "\n",
    "# Perform the intersection\n",
    "result = set1.intersection(set2)\n",
    "\n",
    "print(result) "
   ]
  },
  {
   "cell_type": "code",
   "execution_count": 32,
   "id": "889264fc",
   "metadata": {},
   "outputs": [
    {
     "data": {
      "text/plain": [
       "{'name': 'Alice', 'age': 30, 'city': 'New York'}"
      ]
     },
     "execution_count": 32,
     "metadata": {},
     "output_type": "execute_result"
    }
   ],
   "source": [
    "#Dictionaries \n",
    "\n",
    "\n",
    "my_dict = {\n",
    "    'name': 'Alice',\n",
    "    'age': 30,\n",
    "    'city': 'New York'\n",
    "}\n",
    "\n",
    "my_dict\n"
   ]
  },
  {
   "cell_type": "code",
   "execution_count": 30,
   "id": "8329fcd2",
   "metadata": {},
   "outputs": [
    {
     "name": "stdout",
     "output_type": "stream",
     "text": [
      "30\n"
     ]
    }
   ],
   "source": [
    "print(my_dict['age'])"
   ]
  },
  {
   "cell_type": "code",
   "execution_count": 31,
   "id": "638c7b25",
   "metadata": {},
   "outputs": [
    {
     "data": {
      "text/plain": [
       "{'name': 'Alice', 'age': 30, 'city': 'New york'}"
      ]
     },
     "execution_count": 31,
     "metadata": {},
     "output_type": "execute_result"
    }
   ],
   "source": [
    "#dictionaries 2\n",
    "\n",
    "my_dict= dict(name= 'Alice', age= 30, city= 'New york')\n",
    "my_dict"
   ]
  },
  {
   "cell_type": "code",
   "execution_count": 38,
   "id": "9e2d2860",
   "metadata": {},
   "outputs": [
    {
     "data": {
      "text/plain": [
       "{'age': [23, 24, 34, 45],\n",
       " 'country': ['kenya', 'Uganda', 'Tanzania', 'Rwanda'],\n",
       " 'place': ['Muranga', 'nyeri', 'Laikipia', 'Nyandarua']}"
      ]
     },
     "execution_count": 38,
     "metadata": {},
     "output_type": "execute_result"
    }
   ],
   "source": [
    "my_profile= { \n",
    "    'age': [23,24,34,45],\n",
    "    'country': ['kenya','Uganda', 'Tanzania', 'Rwanda'],\n",
    "    'place': ['Muranga','nyeri','Laikipia','Nyandarua']    \n",
    "    \n",
    "    \n",
    "}\n",
    "my_profile"
   ]
  },
  {
   "cell_type": "code",
   "execution_count": 40,
   "id": "fc578c30",
   "metadata": {},
   "outputs": [
    {
     "data": {
      "text/plain": [
       "34"
      ]
     },
     "execution_count": 40,
     "metadata": {},
     "output_type": "execute_result"
    }
   ],
   "source": [
    "my_profile['age'][2]"
   ]
  },
  {
   "cell_type": "code",
   "execution_count": 41,
   "id": "078bd4b3",
   "metadata": {},
   "outputs": [
    {
     "data": {
      "text/plain": [
       "{'age': [23, 24, 34, 45],\n",
       " 'country': ['kenya', 'Uganda', 'Tanzania', 'Rwanda'],\n",
       " 'place': ['Muranga', 'nyeri', 'Laikipia', 'Nyandarua']}"
      ]
     },
     "execution_count": 41,
     "metadata": {},
     "output_type": "execute_result"
    }
   ],
   "source": [
    "my_profile"
   ]
  },
  {
   "cell_type": "code",
   "execution_count": 42,
   "id": "06e71e67",
   "metadata": {},
   "outputs": [
    {
     "data": {
      "text/plain": [
       "dict_keys(['age', 'country', 'place'])"
      ]
     },
     "execution_count": 42,
     "metadata": {},
     "output_type": "execute_result"
    }
   ],
   "source": [
    "my_profile.keys()"
   ]
  },
  {
   "cell_type": "code",
   "execution_count": 43,
   "id": "1a86c5aa",
   "metadata": {},
   "outputs": [
    {
     "data": {
      "text/plain": [
       "dict_items([('age', [23, 24, 34, 45]), ('country', ['kenya', 'Uganda', 'Tanzania', 'Rwanda']), ('place', ['Muranga', 'nyeri', 'Laikipia', 'Nyandarua'])])"
      ]
     },
     "execution_count": 43,
     "metadata": {},
     "output_type": "execute_result"
    }
   ],
   "source": [
    "my_profile.items()"
   ]
  },
  {
   "cell_type": "code",
   "execution_count": 47,
   "id": "d86c0770",
   "metadata": {},
   "outputs": [],
   "source": [
    "#conditional statements in python"
   ]
  },
  {
   "cell_type": "code",
   "execution_count": 48,
   "id": "a312917c",
   "metadata": {},
   "outputs": [],
   "source": [
    "#assign a variable vacation_days we intend to increment it by 1 2 times"
   ]
  },
  {
   "cell_type": "code",
   "execution_count": 64,
   "id": "fb5f7fa3",
   "metadata": {},
   "outputs": [],
   "source": [
    "vacation_days= 0\n",
    "vacation_days+=1"
   ]
  },
  {
   "cell_type": "code",
   "execution_count": 59,
   "id": "89951145",
   "metadata": {},
   "outputs": [
    {
     "data": {
      "text/plain": [
       "3"
      ]
     },
     "execution_count": 59,
     "metadata": {},
     "output_type": "execute_result"
    }
   ],
   "source": [
    "vacation_days=0\n",
    "vacation_days+=1\n",
    "vacation_days+=2\n",
    "vacation_days"
   ]
  },
  {
   "cell_type": "code",
   "execution_count": 1,
   "id": "67ea22de",
   "metadata": {},
   "outputs": [],
   "source": [
    "#if statements/elif/else"
   ]
  },
  {
   "cell_type": "code",
   "execution_count": 60,
   "id": "790106a4",
   "metadata": {},
   "outputs": [],
   "source": [
    "#This a re conditional\n"
   ]
  },
  {
   "cell_type": "code",
   "execution_count": 63,
   "id": "feb39027",
   "metadata": {},
   "outputs": [
    {
     "data": {
      "text/plain": [
       "{'name': 'misheck', 'age': 23}"
      ]
     },
     "execution_count": 63,
     "metadata": {},
     "output_type": "execute_result"
    }
   ],
   "source": [
    "my_dict= dict(name= 'misheck', age= 23)\n",
    "my_dict"
   ]
  },
  {
   "cell_type": "code",
   "execution_count": 1,
   "id": "e951253b",
   "metadata": {},
   "outputs": [],
   "source": [
    "#conditional Statement"
   ]
  },
  {
   "cell_type": "code",
   "execution_count": 3,
   "id": "3fdcb9e0",
   "metadata": {},
   "outputs": [
    {
     "name": "stdout",
     "output_type": "stream",
     "text": [
      "Enter first number: 12\n",
      "Enter second number: 12\n",
      "num1 and num2 are equal\n"
     ]
    }
   ],
   "source": [
    "num1= int(input(\"Enter first number: \"))\n",
    "num2= int(input(\"Enter second number: \"))\n",
    "if num1 > num2:\n",
    "    print(\"Num1 is greater than num2\")\n",
    "    \n",
    "elif num1 < num2:\n",
    "    print(\"Num1 is less than num2\")\n",
    "else:\n",
    "    print('num1 and num2 are equal')"
   ]
  },
  {
   "cell_type": "markdown",
   "id": "373a5f49",
   "metadata": {},
   "source": [
    "| serves same pupose as or"
   ]
  },
  {
   "cell_type": "code",
   "execution_count": 4,
   "id": "0a2632ed",
   "metadata": {},
   "outputs": [],
   "source": [
    "#for loop"
   ]
  },
  {
   "cell_type": "code",
   "execution_count": 6,
   "id": "67aa3019",
   "metadata": {},
   "outputs": [
    {
     "name": "stdout",
     "output_type": "stream",
     "text": [
      "b a n a n a n a "
     ]
    }
   ],
   "source": [
    "fruit = 'bananana'\n",
    "for i in fruit:\n",
    "    print(i, end= ' ')"
   ]
  },
  {
   "cell_type": "code",
   "execution_count": 4,
   "id": "b697efd7",
   "metadata": {},
   "outputs": [
    {
     "name": "stdout",
     "output_type": "stream",
     "text": [
      "orange "
     ]
    }
   ],
   "source": [
    "fruits = ['banana', 'kiwi', 'orange', 'mango']\n",
    "for fruit in fruits:\n",
    "    if fruit=='orange':\n",
    "        print(fruit, end= ' ')\n",
    "    "
   ]
  },
  {
   "cell_type": "code",
   "execution_count": 1,
   "id": "7aac5ca9",
   "metadata": {},
   "outputs": [],
   "source": [
    "# List of fruits\n",
    "fruits = [\"apple\", \"banana\", \"orange\", \"grape\", \"kiwi\", \"orange\", \"mango\"]\n",
    "\n",
    "# Iterate through the list of fruits\n",
    "for fruit in fruits:\n",
    "    if fruit == \"orange\":\n",
    "        continue  # Skip the rest of the loop when fruit is 'orange'\n",
    "\n",
    "        print(fruit)  # Print the fruit if it's not 'orange'\n"
   ]
  },
  {
   "cell_type": "markdown",
   "id": "92ccd98e-40ea-4045-a9e4-0083d251d377",
   "metadata": {},
   "source": [
    "List comprehension"
   ]
  },
  {
   "cell_type": "code",
   "execution_count": 6,
   "id": "2f623b17-b0ac-4363-887c-eb4242c8ffbe",
   "metadata": {},
   "outputs": [
    {
     "data": {
      "text/plain": [
       "['apple', 'banana', 'orange', 'grape', 'kiwi', 'orange', 'mango']"
      ]
     },
     "execution_count": 6,
     "metadata": {},
     "output_type": "execute_result"
    }
   ],
   "source": [
    "fruits = [\"apple\", \"banana\", \"orange\", \"grape\", \"kiwi\", \"orange\", \"mango\"]\n",
    "\n",
    "[fruit for fruit in fruits]"
   ]
  },
  {
   "cell_type": "code",
   "execution_count": 11,
   "id": "696b79c1-2464-4370-8587-a3f36ecb73fa",
   "metadata": {},
   "outputs": [
    {
     "name": "stdout",
     "output_type": "stream",
     "text": [
      "Nairobi\n",
      "Nakuru\n",
      "Eldoret\n",
      "Kampala\n",
      "Jinja\n",
      "Entebbe\n"
     ]
    }
   ],
   "source": [
    "#nested loop\n",
    "countries = [ {\"Kenya\" : \"Jane\", \"City\": [\"Nairobi\", \"Nakuru\", \"Eldoret\"]},\n",
    "            {\"Uganda\" : \" Kamau\", \"City\": [\"Kampala\", \"Jinja\", \"Entebbe\"]}]\n",
    "for country in countries:\n",
    "    for City in country['City']:\n",
    "        print(City)"
   ]
  },
  {
   "cell_type": "code",
   "execution_count": 12,
   "id": "57dc7e83-8cf6-4013-954d-f212bd7b833b",
   "metadata": {},
   "outputs": [
    {
     "data": {
      "text/plain": [
       "['Nairobi', 'Nakuru', 'Eldoret', 'Kampala', 'Jinja', 'Entebbe']"
      ]
     },
     "execution_count": 12,
     "metadata": {},
     "output_type": "execute_result"
    }
   ],
   "source": [
    "[City for country in countries for City in country['City']]"
   ]
  },
  {
   "cell_type": "code",
   "execution_count": null,
   "id": "6604f66c-c8cd-4def-82db-e8feb1c14f48",
   "metadata": {},
   "outputs": [],
   "source": [
    "#Question \n",
    "COme up with a program to prompt the user to input their marks. The program should then output the users grade"
   ]
  },
  {
   "cell_type": "code",
   "execution_count": null,
   "id": "162e02ce-32c0-475b-ac44-de082084ac9e",
   "metadata": {},
   "outputs": [],
   "source": [
    "# use a "
   ]
  },
  {
   "cell_type": "code",
   "execution_count": null,
   "id": "fc0416ca-9b63-4a71-b4cf-e06c96b7090f",
   "metadata": {},
   "outputs": [],
   "source": []
  },
  {
   "cell_type": "code",
   "execution_count": 8,
   "id": "629fbb00-988b-4f15-843f-bca8147f649e",
   "metadata": {},
   "outputs": [
    {
     "name": "stdin",
     "output_type": "stream",
     "text": [
      "Enter your marks (0-100):  4\n"
     ]
    },
    {
     "name": "stdout",
     "output_type": "stream",
     "text": [
      "Your grade is: E\n"
     ]
    }
   ],
   "source": [
    "\n",
    "marks = float(input(\"Enter your marks (0-100): \"))\n",
    "\n",
    " try:\n",
    "     if marks < 0 or marks > 100:\n",
    "    print(\"Invalid marks. Please enter a value between 0 and 100.\")\n",
    "elif marks >= 90:\n",
    "    grade = 'A'\n",
    "elif marks >= 80:\n",
    "    grade = 'B'\n",
    "elif marks >= 70:\n",
    "    grade = 'C'\n",
    "elif marks >= 60:\n",
    "    grade = 'D'\n",
    "elif marks <= 59 and marks >= 0:\n",
    "    grade = 'E'\n",
    "\n",
    "print(f\"Your grade is: {grade}\")\n"
   ]
  },
  {
   "cell_type": "code",
   "execution_count": 5,
   "id": "a0dfaaed-c2e2-46a6-8fd2-b21b1d78d979",
   "metadata": {},
   "outputs": [],
   "source": [
    "#Question 2\n",
    "#come up with a program to test to test for even or odd number\n"
   ]
  },
  {
   "cell_type": "code",
   "execution_count": 2,
   "id": "5f2fdb42-e12f-4a0c-9266-9c718bc02614",
   "metadata": {},
   "outputs": [
    {
     "name": "stdin",
     "output_type": "stream",
     "text": [
      "Enter a number:  67\n"
     ]
    },
    {
     "name": "stdout",
     "output_type": "stream",
     "text": [
      " 67 is an odd number\n"
     ]
    }
   ],
   "source": [
    "while True:\n",
    "    my_number= int(input('Enter a number: '))\n",
    "    if my_number % 2 ==0:\n",
    "        print(f\" {my_number} is an even number\" )\n",
    "        break\n",
    "    else:\n",
    "        print(f\" {my_number} is an odd number\")\n",
    "        break"
   ]
  },
  {
   "cell_type": "code",
   "execution_count": 4,
   "id": "b99f91e7-2c38-4443-8e0b-4d6de3fdbb8c",
   "metadata": {},
   "outputs": [
    {
     "name": "stdout",
     "output_type": "stream",
     "text": [
      "hello world\n"
     ]
    }
   ],
   "source": [
    "#Functions\n",
    "#reusable and organized block of code\n",
    "\n",
    "def greet():\n",
    "    print(\"hello world\")\n",
    "greet()\n"
   ]
  },
  {
   "cell_type": "code",
   "execution_count": 6,
   "id": "fca161aa-3f23-4c06-884d-02806dce205b",
   "metadata": {},
   "outputs": [
    {
     "name": "stdout",
     "output_type": "stream",
     "text": [
      "Hello misheck\n"
     ]
    }
   ],
   "source": [
    "def greeting(name): #one argument\n",
    "    print('Hello', name)\n",
    "greeting('misheck') #call"
   ]
  },
  {
   "cell_type": "code",
   "execution_count": 8,
   "id": "79194231-1cad-4d39-9811-23655bc473cf",
   "metadata": {},
   "outputs": [
    {
     "name": "stdout",
     "output_type": "stream",
     "text": [
      "11\n"
     ]
    }
   ],
   "source": [
    "#A function can have more than one arguments\n",
    "#a function to add two numbers\n",
    "\n",
    "def addtwonum(num1, num2):\n",
    "    print(num1 + num2)\n",
    "addtwonum(5,6)"
   ]
  },
  {
   "cell_type": "code",
   "execution_count": 10,
   "id": "3f978c03-c041-4e62-b702-25b9a7bd083c",
   "metadata": {},
   "outputs": [],
   "source": [
    "def lucky_num(num=45):\n",
    "    print(\"My lucky number is\", num)\n"
   ]
  },
  {
   "cell_type": "code",
   "execution_count": 12,
   "id": "c8ef6163-d5fa-4f60-a35e-78b9dc65773d",
   "metadata": {},
   "outputs": [
    {
     "name": "stdout",
     "output_type": "stream",
     "text": [
      "My lucky number is 45\n"
     ]
    }
   ],
   "source": [
    "# if i print \n",
    "\n",
    "lucky_num()"
   ]
  },
  {
   "cell_type": "code",
   "execution_count": 13,
   "id": "cb6de7bf-6a61-472a-b6ab-1adcb560dd75",
   "metadata": {},
   "outputs": [
    {
     "name": "stdout",
     "output_type": "stream",
     "text": [
      "My lucky number is 30\n"
     ]
    }
   ],
   "source": [
    "lucky_num(30) # the output will change\n"
   ]
  },
  {
   "cell_type": "code",
   "execution_count": 14,
   "id": "1cb8e61c-c7b2-40e0-bbdf-bdbd3b9a9033",
   "metadata": {},
   "outputs": [
    {
     "data": {
      "text/plain": [
       "7"
      ]
     },
     "execution_count": 14,
     "metadata": {},
     "output_type": "execute_result"
    }
   ],
   "source": [
    "#lambda functions\n",
    "\n",
    "sum2 = lambda a,b: a + b\n",
    "\n",
    "#sum2 is our more or less our function\n",
    "\n",
    "#a and b = parameters\n",
    "\n",
    "sum2(2,5)"
   ]
  },
  {
   "cell_type": "code",
   "execution_count": 15,
   "id": "73dbf9bb-2588-4080-8f83-70b22f4b9d5a",
   "metadata": {},
   "outputs": [
    {
     "data": {
      "text/plain": [
       "81"
      ]
     },
     "execution_count": 15,
     "metadata": {},
     "output_type": "execute_result"
    }
   ],
   "source": [
    "numsq = lambda x: x**2\n",
    "numsq(9)"
   ]
  },
  {
   "cell_type": "code",
   "execution_count": 16,
   "id": "b7b60613-725f-4532-8439-f8349d97f21f",
   "metadata": {},
   "outputs": [],
   "source": [
    "#COme up with a program to prompt the user to input their marks. The program should then output the users grade"
   ]
  },
  {
   "cell_type": "code",
   "execution_count": 7,
   "id": "b731f60c-eb91-474d-be44-55d9e4682228",
   "metadata": {
    "scrolled": true
   },
   "outputs": [
    {
     "name": "stdin",
     "output_type": "stream",
     "text": [
      "Enter your marks (0-100):  67\n"
     ]
    },
    {
     "name": "stdout",
     "output_type": "stream",
     "text": [
      "Your grade is: D\n"
     ]
    }
   ],
   "source": [
    "\n",
    "def get_grade():\n",
    "    try:\n",
    "        marks = float(input(\"Enter your marks (0-100): \"))\n",
    "        \n",
    "        if marks < 0 or marks > 100:\n",
    "            print(\"Please enter marks within the range of 0 to 100.\")\n",
    "            return\n",
    "        \n",
    "        if marks >= 90:\n",
    "            grade = 'A'\n",
    "        elif marks >= 80:\n",
    "            grade = 'B'\n",
    "        elif marks >= 70:\n",
    "            grade = 'C'\n",
    "        elif marks >= 60:\n",
    "            grade = 'D'\n",
    "        else:\n",
    "            grade = 'F'\n",
    "        \n",
    "        print(f\"Your grade is: {grade}\")\n",
    "\n",
    "    except ValueError:\n",
    "        print(\"Invalid input. Please enter a numerical value.\")\n",
    "\n",
    "# Call the function\n",
    "get_grade()\n"
   ]
  },
  {
   "cell_type": "code",
   "execution_count": 2,
   "id": "2c3d14ed-850b-4171-8b45-889b70f33110",
   "metadata": {},
   "outputs": [
    {
     "name": "stdout",
     "output_type": "stream",
     "text": [
      "0 orange\n",
      "1 banana\n",
      "2 mango\n"
     ]
    }
   ],
   "source": [
    "#ENUMERATE\n",
    "#Gives out the index and the string or value\n",
    "\n",
    "fruits = ['orange', 'banana', 'mango']\n",
    "for i, fruit in enumerate(fruits):\n",
    "    print(i,fruit)"
   ]
  },
  {
   "cell_type": "code",
   "execution_count": 1,
   "id": "c06fe2b1-3ebd-425a-abc2-09207a91f17a",
   "metadata": {},
   "outputs": [
    {
     "name": "stdout",
     "output_type": "stream",
     "text": [
      "5\n"
     ]
    }
   ],
   "source": [
    "list1 = [1, 2, 3]\n",
    "list2 = [4, 5, 6]\n",
    "\n",
    "result = list1[0] + list2[0]\n",
    "print(result)  # This will print 5"
   ]
  },
  {
   "cell_type": "code",
   "execution_count": 2,
   "id": "770ab10e-eb60-4817-8ed4-5fac619df2ff",
   "metadata": {},
   "outputs": [],
   "source": [
    "#using a for loop\n",
    "result=[]\n",
    "for lista,listb in zip(list1,list2):\n",
    "    result.append(lista+listb)\n",
    "    "
   ]
  },
  {
   "cell_type": "code",
   "execution_count": 6,
   "id": "f138afa3-518e-465a-9217-69bba3b11b7a",
   "metadata": {},
   "outputs": [
    {
     "data": {
      "text/plain": [
       "[5, 7, 9]"
      ]
     },
     "execution_count": 6,
     "metadata": {},
     "output_type": "execute_result"
    }
   ],
   "source": [
    "result"
   ]
  },
  {
   "cell_type": "markdown",
   "id": "af98ca3f-e538-4e07-8f25-18dbcf541512",
   "metadata": {},
   "source": [
    "1.1 Arguments in a function"
   ]
  },
  {
   "cell_type": "code",
   "execution_count": 16,
   "id": "0ee03a14-cf9a-47e9-a2f9-a885cd0464c7",
   "metadata": {},
   "outputs": [
    {
     "name": "stdout",
     "output_type": "stream",
     "text": [
      "34\n"
     ]
    }
   ],
   "source": [
    "def myarg(*args):\n",
    "    c = 0\n",
    "    for i in args:  # Iterate over the args\n",
    "        c += i     # Accumulate the sum\n",
    "    print(c)       # Print the final sum\n",
    "\n",
    "myarg(2, 3, 4, 5, 6, 6, 8)\n"
   ]
  },
  {
   "cell_type": "code",
   "execution_count": 17,
   "id": "6410cdb5-418d-4912-9a5b-69b5ad5be95c",
   "metadata": {},
   "outputs": [
    {
     "name": "stdout",
     "output_type": "stream",
     "text": [
      "name jane\n",
      "address juja\n"
     ]
    }
   ],
   "source": [
    "def person_info (**kwargs):\n",
    "    for key, value in kwargs.items():\n",
    "        print(key,value)\n",
    "#person_info(name=\"william\", phone = '0753465353', address= 'Nairo' # blurs some info if the client is not comfortable with that part of info.\n",
    "person_info(name = 'jane', address= 'juja')"
   ]
  },
  {
   "cell_type": "markdown",
   "id": "651a03b0-f2af-4166-a21d-faaf62990a89",
   "metadata": {},
   "source": [
    "NUMPY\n",
    "\n",
    "NUMERICAL PYTHON FOR CREATING ARRAYS"
   ]
  },
  {
   "cell_type": "code",
   "execution_count": 4,
   "id": "8411234a-47ba-4be7-adff-9d452623c3e9",
   "metadata": {},
   "outputs": [
    {
     "data": {
      "text/plain": [
       "[7, 9, 11, 13, 15, 17]"
      ]
     },
     "execution_count": 4,
     "metadata": {},
     "output_type": "execute_result"
    }
   ],
   "source": [
    "list1 = [3,4,5,6,7,8]\n",
    "list2 = [4,5,6,7,8,9]\n",
    "result=[]\n",
    "for first,second in zip(list1,list2):\n",
    "    result.append(first + second)\n",
    "result"
   ]
  },
  {
   "cell_type": "code",
   "execution_count": 3,
   "id": "8f028313-f638-4cec-8b65-235035c41dde",
   "metadata": {},
   "outputs": [],
   "source": []
  },
  {
   "cell_type": "code",
   "execution_count": 7,
   "id": "276f95e6-a21c-4caa-a6d4-3da3a8f6239e",
   "metadata": {},
   "outputs": [
    {
     "name": "stdout",
     "output_type": "stream",
     "text": [
      "Requirement already satisfied: numpy in c:\\users\\admin\\anacondafolder\\lib\\site-packages (1.26.4)\n"
     ]
    }
   ],
   "source": [
    "!pip install numpy\n",
    "\n",
    "#install incase you get an error that the module is non existent"
   ]
  },
  {
   "cell_type": "code",
   "execution_count": 2,
   "id": "1dff9d0d-91d1-49f2-9d62-b2702fdc5a2b",
   "metadata": {},
   "outputs": [],
   "source": [
    "import numpy as np #np is an alias"
   ]
  },
  {
   "cell_type": "code",
   "execution_count": 10,
   "id": "efad6252-8d48-43a4-87c7-29e0364a17d3",
   "metadata": {},
   "outputs": [
    {
     "data": {
      "text/plain": [
       "array([3, 2, 3, 4])"
      ]
     },
     "execution_count": 10,
     "metadata": {},
     "output_type": "execute_result"
    }
   ],
   "source": [
    "#creating an array\n",
    "\n",
    "a = np.array([3,2,3,4])\n",
    "a"
   ]
  },
  {
   "cell_type": "code",
   "execution_count": 13,
   "id": "d0fecd9e-101f-42e0-bff3-6a6e692c9f9e",
   "metadata": {},
   "outputs": [
    {
     "data": {
      "text/plain": [
       "dtype('int32')"
      ]
     },
     "execution_count": 13,
     "metadata": {},
     "output_type": "execute_result"
    }
   ],
   "source": [
    "a.dtype #getting the tyoe of a"
   ]
  },
  {
   "cell_type": "code",
   "execution_count": 14,
   "id": "3044303d-5eea-49a0-af05-adaee88274a6",
   "metadata": {},
   "outputs": [
    {
     "data": {
      "text/plain": [
       "(4,)"
      ]
     },
     "execution_count": 14,
     "metadata": {},
     "output_type": "execute_result"
    }
   ],
   "source": [
    "a.shape"
   ]
  },
  {
   "cell_type": "code",
   "execution_count": 15,
   "id": "6c3743e9-4295-4c0b-964f-c7036fbaf975",
   "metadata": {},
   "outputs": [
    {
     "data": {
      "text/plain": [
       "1"
      ]
     },
     "execution_count": 15,
     "metadata": {},
     "output_type": "execute_result"
    }
   ],
   "source": [
    "a.ndim"
   ]
  },
  {
   "cell_type": "code",
   "execution_count": 16,
   "id": "25b99ece-e17a-44da-b90d-bc48ba5d9a3d",
   "metadata": {},
   "outputs": [
    {
     "data": {
      "text/plain": [
       "16"
      ]
     },
     "execution_count": 16,
     "metadata": {},
     "output_type": "execute_result"
    }
   ],
   "source": [
    "a.nbytes"
   ]
  },
  {
   "cell_type": "code",
   "execution_count": 22,
   "id": "aaaebb21-8aa7-4a94-8b1c-d45fee627884",
   "metadata": {},
   "outputs": [],
   "source": [
    "b = np.array([2, 3, 4])\n",
    "d = np.array([4, 5, 6])"
   ]
  },
  {
   "cell_type": "code",
   "execution_count": 23,
   "id": "5406b83d-4581-4781-9413-784e5d436475",
   "metadata": {},
   "outputs": [
    {
     "data": {
      "text/plain": [
       "array([ 6,  8, 10])"
      ]
     },
     "execution_count": 23,
     "metadata": {},
     "output_type": "execute_result"
    }
   ],
   "source": [
    "b + d"
   ]
  },
  {
   "cell_type": "code",
   "execution_count": null,
   "id": "29ee2a35-3ca3-4567-96d5-526cca26a13d",
   "metadata": {},
   "outputs": [],
   "source": [
    "#both arrays must be of the same dimension"
   ]
  },
  {
   "cell_type": "code",
   "execution_count": 26,
   "id": "86be4e18-dfc7-4ea7-99bf-f18a9f33a6eb",
   "metadata": {},
   "outputs": [],
   "source": [
    "list5= np.array([2.3,4.5,6.7])\n"
   ]
  },
  {
   "cell_type": "code",
   "execution_count": 27,
   "id": "3ed592cd-3ba0-4c02-b368-93bade9ac803",
   "metadata": {},
   "outputs": [
    {
     "data": {
      "text/plain": [
       "array([0, 1, 2, 3, 4, 5, 6, 7, 8, 9])"
      ]
     },
     "execution_count": 27,
     "metadata": {},
     "output_type": "execute_result"
    }
   ],
   "source": [
    "x= np.arange(10) #getting an array with a range\n",
    "x"
   ]
  },
  {
   "cell_type": "code",
   "execution_count": 29,
   "id": "61731636-3ff3-4d93-9766-57efc59fb555",
   "metadata": {},
   "outputs": [
    {
     "data": {
      "text/plain": [
       "array([0, 2, 4, 6, 8])"
      ]
     },
     "execution_count": 29,
     "metadata": {},
     "output_type": "execute_result"
    }
   ],
   "source": [
    "y= np.arange(0,10,2)\n",
    "y"
   ]
  },
  {
   "cell_type": "code",
   "execution_count": 30,
   "id": "b653cfd5-52bb-4df5-8ff1-69c0b36cf241",
   "metadata": {},
   "outputs": [
    {
     "data": {
      "text/plain": [
       "array([3, 4, 5])"
      ]
     },
     "execution_count": 30,
     "metadata": {},
     "output_type": "execute_result"
    }
   ],
   "source": [
    "m = np.array([3,4,5])\n",
    "m"
   ]
  },
  {
   "cell_type": "code",
   "execution_count": 31,
   "id": "6bd65126-3455-4959-95d5-44dee2b345b1",
   "metadata": {},
   "outputs": [
    {
     "data": {
      "text/plain": [
       "array([12,  4,  5])"
      ]
     },
     "execution_count": 31,
     "metadata": {},
     "output_type": "execute_result"
    }
   ],
   "source": [
    "m[0] = 12\n",
    "m"
   ]
  },
  {
   "cell_type": "code",
   "execution_count": 32,
   "id": "34d5b227-f8f8-45fb-838e-ba0ffdb01df3",
   "metadata": {},
   "outputs": [],
   "source": [
    "#2d array"
   ]
  },
  {
   "cell_type": "code",
   "execution_count": 34,
   "id": "c808f26f-2de6-4dda-9122-1734e5a8a6b3",
   "metadata": {},
   "outputs": [
    {
     "data": {
      "text/plain": [
       "array([[2, 3, 4],\n",
       "       [3, 4, 5]])"
      ]
     },
     "execution_count": 34,
     "metadata": {},
     "output_type": "execute_result"
    }
   ],
   "source": [
    "a = np.array([[2,3,4],[3,4,5]])\n",
    "a"
   ]
  },
  {
   "cell_type": "code",
   "execution_count": 35,
   "id": "30fe41a2-7ba6-4614-9ec4-f9d92a132214",
   "metadata": {},
   "outputs": [
    {
     "data": {
      "text/plain": [
       "2"
      ]
     },
     "execution_count": 35,
     "metadata": {},
     "output_type": "execute_result"
    }
   ],
   "source": [
    "a.ndim"
   ]
  },
  {
   "cell_type": "code",
   "execution_count": 36,
   "id": "825db884-875f-4f3a-acea-eab15541dfca",
   "metadata": {},
   "outputs": [
    {
     "data": {
      "text/plain": [
       "(2, 3)"
      ]
     },
     "execution_count": 36,
     "metadata": {},
     "output_type": "execute_result"
    }
   ],
   "source": [
    "a.shape"
   ]
  },
  {
   "cell_type": "code",
   "execution_count": 44,
   "id": "4812cba0-5b38-4a8c-80d5-51cb6938b0a4",
   "metadata": {},
   "outputs": [
    {
     "data": {
      "text/plain": [
       "2"
      ]
     },
     "execution_count": 44,
     "metadata": {},
     "output_type": "execute_result"
    }
   ],
   "source": [
    "a[1] #notice this is 2d  this obtains the first one\n",
    "\n",
    "#if I want to obtain say 2 we use:\n",
    "\n",
    "\n",
    "a[0][0]"
   ]
  },
  {
   "cell_type": "code",
   "execution_count": null,
   "id": "ebb255c1-4ac8-4013-913d-638a8f186751",
   "metadata": {},
   "outputs": [],
   "source": [
    "We move to 3 dimension arrays"
   ]
  },
  {
   "cell_type": "code",
   "execution_count": null,
   "id": "2cb459ce-7354-485e-944f-7a9822457fe2",
   "metadata": {},
   "outputs": [],
   "source": []
  },
  {
   "cell_type": "code",
   "execution_count": 50,
   "id": "b59c0a5d-f624-4259-9be8-bbe1f342be30",
   "metadata": {},
   "outputs": [],
   "source": [
    "n = np.array([[[2,3,4],[3,4,5],[3,3,4]]])"
   ]
  },
  {
   "cell_type": "code",
   "execution_count": 51,
   "id": "717987e7-62bf-4e75-b4c2-96a758df3863",
   "metadata": {},
   "outputs": [
    {
     "data": {
      "text/plain": [
       "array([[[2, 3, 4],\n",
       "        [3, 4, 5],\n",
       "        [3, 3, 4]]])"
      ]
     },
     "execution_count": 51,
     "metadata": {},
     "output_type": "execute_result"
    }
   ],
   "source": [
    "n"
   ]
  },
  {
   "cell_type": "code",
   "execution_count": 52,
   "id": "0be6f9ac-d375-4a0d-8b73-e105bf185069",
   "metadata": {},
   "outputs": [
    {
     "data": {
      "text/plain": [
       "3"
      ]
     },
     "execution_count": 52,
     "metadata": {},
     "output_type": "execute_result"
    }
   ],
   "source": [
    "n.ndim"
   ]
  },
  {
   "cell_type": "code",
   "execution_count": 49,
   "id": "e3cefa55-bcb9-4de9-b7cd-20922c2f5530",
   "metadata": {},
   "outputs": [
    {
     "data": {
      "text/plain": [
       "array([2, 3, 4])"
      ]
     },
     "execution_count": 49,
     "metadata": {},
     "output_type": "execute_result"
    }
   ],
   "source": [
    "#to obtain the first list ie [2,3,4]\n",
    "\n",
    "n[0][0]"
   ]
  },
  {
   "cell_type": "code",
   "execution_count": 53,
   "id": "65b72d72-6f25-44a8-92c9-007616c80a8e",
   "metadata": {},
   "outputs": [
    {
     "data": {
      "text/plain": [
       "2"
      ]
     },
     "execution_count": 53,
     "metadata": {},
     "output_type": "execute_result"
    }
   ],
   "source": [
    "#to obtain say 2\n",
    "\n",
    "n[0][0][0]"
   ]
  },
  {
   "cell_type": "code",
   "execution_count": 3,
   "id": "3601b6bb-7826-42d5-9998-10f383a310de",
   "metadata": {},
   "outputs": [
    {
     "data": {
      "text/plain": [
       "array([2, 3, 4, 5])"
      ]
     },
     "execution_count": 3,
     "metadata": {},
     "output_type": "execute_result"
    }
   ],
   "source": [
    "v= np.array([2,3,4,5])\n",
    "v"
   ]
  },
  {
   "cell_type": "code",
   "execution_count": 4,
   "id": "68c4bd29-11d5-482c-b3b9-3826278d3309",
   "metadata": {},
   "outputs": [],
   "source": [
    "d= v.reshape(2,2)"
   ]
  },
  {
   "cell_type": "code",
   "execution_count": 5,
   "id": "4a0843c6-7e83-48d6-b13a-be64270e7306",
   "metadata": {},
   "outputs": [
    {
     "data": {
      "text/plain": [
       "array([[2, 3],\n",
       "       [4, 5]])"
      ]
     },
     "execution_count": 5,
     "metadata": {},
     "output_type": "execute_result"
    }
   ],
   "source": [
    "d"
   ]
  },
  {
   "cell_type": "code",
   "execution_count": 7,
   "id": "b98bb70c-ce5a-461c-8806-ef74c8fa5bbf",
   "metadata": {},
   "outputs": [
    {
     "data": {
      "text/plain": [
       "array([[ 0,  1,  2,  3,  4],\n",
       "       [ 5,  6,  7,  8,  9],\n",
       "       [10, 11, 12, 13, 14],\n",
       "       [15, 16, 17, 18, 19],\n",
       "       [20, 21, 22, 23, 24]])"
      ]
     },
     "execution_count": 7,
     "metadata": {},
     "output_type": "execute_result"
    }
   ],
   "source": [
    "a = np.arange(25).reshape(5,5)\n",
    "a"
   ]
  },
  {
   "cell_type": "code",
   "execution_count": 8,
   "id": "52e3c044-9f4d-4de1-aba4-b1ce8350feb0",
   "metadata": {},
   "outputs": [
    {
     "data": {
      "text/plain": [
       "array([ 0,  1,  2,  3,  4,  5,  6,  7,  8,  9, 10, 11, 12, 13, 14, 15, 16,\n",
       "       17, 18, 19, 20, 21, 22, 23, 24])"
      ]
     },
     "execution_count": 8,
     "metadata": {},
     "output_type": "execute_result"
    }
   ],
   "source": [
    "g= np.arange(25)\n",
    "g"
   ]
  },
  {
   "cell_type": "code",
   "execution_count": 2,
   "id": "581af385-7750-4881-8cc3-9f1e5c2e6b93",
   "metadata": {},
   "outputs": [],
   "source": [
    "import numpy as np\n",
    "r= np.identity(6)"
   ]
  },
  {
   "cell_type": "code",
   "execution_count": 3,
   "id": "9bdfb41b-b36c-4079-a0d2-7fe7a74e7eb4",
   "metadata": {},
   "outputs": [
    {
     "data": {
      "text/plain": [
       "array([[1., 0., 0., 0., 0., 0.],\n",
       "       [0., 1., 0., 0., 0., 0.],\n",
       "       [0., 0., 1., 0., 0., 0.],\n",
       "       [0., 0., 0., 1., 0., 0.],\n",
       "       [0., 0., 0., 0., 1., 0.],\n",
       "       [0., 0., 0., 0., 0., 1.]])"
      ]
     },
     "execution_count": 3,
     "metadata": {},
     "output_type": "execute_result"
    }
   ],
   "source": [
    "r"
   ]
  },
  {
   "cell_type": "code",
   "execution_count": 6,
   "id": "8240a490-3714-4292-8242-af960260d5fd",
   "metadata": {},
   "outputs": [],
   "source": [
    "p= np.linspace(0,10,4)  #generate 4 numbers between 0 and 10 "
   ]
  },
  {
   "cell_type": "code",
   "execution_count": 7,
   "id": "119828ff-a4f9-4a49-ab91-caf9bbddf0e0",
   "metadata": {},
   "outputs": [
    {
     "data": {
      "text/plain": [
       "array([ 0.        ,  3.33333333,  6.66666667, 10.        ])"
      ]
     },
     "execution_count": 7,
     "metadata": {},
     "output_type": "execute_result"
    }
   ],
   "source": [
    "p"
   ]
  },
  {
   "cell_type": "code",
   "execution_count": 8,
   "id": "42e0c615-e205-4c92-88b7-f4dab8e09cc7",
   "metadata": {},
   "outputs": [],
   "source": [
    "#methods"
   ]
  },
  {
   "cell_type": "code",
   "execution_count": 9,
   "id": "164e47d9-94f3-4ed3-8ac4-c7450c770d06",
   "metadata": {},
   "outputs": [
    {
     "data": {
      "text/plain": [
       "array([[1, 2, 3],\n",
       "       [4, 5, 6]])"
      ]
     },
     "execution_count": 9,
     "metadata": {},
     "output_type": "execute_result"
    }
   ],
   "source": [
    "d= np.array([[1,2,3], [4,5,6]])\n",
    "d"
   ]
  },
  {
   "cell_type": "code",
   "execution_count": 13,
   "id": "14bc76c1-6654-4ae0-bf72-a5620863ae19",
   "metadata": {},
   "outputs": [
    {
     "data": {
      "text/plain": [
       "array([ 6, 15])"
      ]
     },
     "execution_count": 13,
     "metadata": {},
     "output_type": "execute_result"
    }
   ],
   "source": [
    "d.sum(axis=1\n",
    "     )"
   ]
  },
  {
   "cell_type": "code",
   "execution_count": 14,
   "id": "b79c3265-344b-47de-8f87-60f9a6f99d87",
   "metadata": {},
   "outputs": [
    {
     "data": {
      "text/plain": [
       "array([5, 7, 9])"
      ]
     },
     "execution_count": 14,
     "metadata": {},
     "output_type": "execute_result"
    }
   ],
   "source": [
    "d.sum(axis=0)"
   ]
  },
  {
   "cell_type": "code",
   "execution_count": 15,
   "id": "1937fa50-5b0f-44a9-ac21-c74dd54cd0df",
   "metadata": {},
   "outputs": [
    {
     "data": {
      "text/plain": [
       "21"
      ]
     },
     "execution_count": 15,
     "metadata": {},
     "output_type": "execute_result"
    }
   ],
   "source": [
    "np.sum(d)"
   ]
  },
  {
   "cell_type": "code",
   "execution_count": 16,
   "id": "494864ca-70f7-45ab-b14f-e70399b4e273",
   "metadata": {},
   "outputs": [
    {
     "data": {
      "text/plain": [
       "1.707825127659933"
      ]
     },
     "execution_count": 16,
     "metadata": {},
     "output_type": "execute_result"
    }
   ],
   "source": [
    "d.std()"
   ]
  },
  {
   "cell_type": "code",
   "execution_count": 17,
   "id": "c0ef7b42-3a1b-4602-b1d0-523c309aa45e",
   "metadata": {},
   "outputs": [
    {
     "data": {
      "text/plain": [
       "3.5"
      ]
     },
     "execution_count": 17,
     "metadata": {},
     "output_type": "execute_result"
    }
   ],
   "source": [
    "d.mean()"
   ]
  },
  {
   "cell_type": "code",
   "execution_count": 19,
   "id": "8c5fc306-25a2-4aa0-b232-cc5c5432c33e",
   "metadata": {},
   "outputs": [
    {
     "data": {
      "text/plain": [
       "array([[1, 2, 3],\n",
       "       [4, 5, 6]])"
      ]
     },
     "execution_count": 19,
     "metadata": {},
     "output_type": "execute_result"
    }
   ],
   "source": [
    "#transpose\n",
    "\n",
    "d"
   ]
  },
  {
   "cell_type": "code",
   "execution_count": 20,
   "id": "3806f616-9b97-4f9a-98c6-ebc3d2de6dbf",
   "metadata": {},
   "outputs": [
    {
     "data": {
      "text/plain": [
       "array([[1, 4],\n",
       "       [2, 5],\n",
       "       [3, 6]])"
      ]
     },
     "execution_count": 20,
     "metadata": {},
     "output_type": "execute_result"
    }
   ],
   "source": [
    "d.T"
   ]
  },
  {
   "cell_type": "code",
   "execution_count": 22,
   "id": "ca12e6ad-1f2d-4cbc-9b31-3761eb48e8b9",
   "metadata": {},
   "outputs": [
    {
     "data": {
      "text/plain": [
       "array([1, 2, 3, 4, 5, 6])"
      ]
     },
     "execution_count": 22,
     "metadata": {},
     "output_type": "execute_result"
    }
   ],
   "source": [
    "#flatten\n",
    "d.flatten()"
   ]
  },
  {
   "cell_type": "code",
   "execution_count": 25,
   "id": "d601468a-9fcf-4bd8-ab89-4324c1d7d275",
   "metadata": {},
   "outputs": [
    {
     "data": {
      "text/plain": [
       "array([1, 2, 3, 4, 5, 6])"
      ]
     },
     "execution_count": 25,
     "metadata": {},
     "output_type": "execute_result"
    }
   ],
   "source": [
    "d.reshape(-1) #same result as flatten but notice we have 2d array"
   ]
  },
  {
   "cell_type": "raw",
   "id": "f4d03b9e-2b27-47d6-b893-9d4cec4231c1",
   "metadata": {},
   "source": [
    "#matplotlib"
   ]
  },
  {
   "cell_type": "markdown",
   "id": "8e711f55-598c-406d-849b-dc1abef2f033",
   "metadata": {},
   "source": [
    "graph plotting library in python"
   ]
  },
  {
   "cell_type": "code",
   "execution_count": 4,
   "id": "3b0c970d-3130-4ddf-9834-125c9c018e17",
   "metadata": {},
   "outputs": [],
   "source": [
    "import matplotlib.pyplot as plt"
   ]
  },
  {
   "cell_type": "code",
   "execution_count": 3,
   "id": "b32c6ea4-1ebc-4da5-9477-2f4cccf6db24",
   "metadata": {},
   "outputs": [
    {
     "name": "stdout",
     "output_type": "stream",
     "text": [
      "Requirement already satisfied: matplotlib in c:\\users\\admin\\anacondafolder\\lib\\site-packages (3.8.4)\n",
      "Requirement already satisfied: contourpy>=1.0.1 in c:\\users\\admin\\anacondafolder\\lib\\site-packages (from matplotlib) (1.2.0)\n",
      "Requirement already satisfied: cycler>=0.10 in c:\\users\\admin\\anacondafolder\\lib\\site-packages (from matplotlib) (0.11.0)\n",
      "Requirement already satisfied: fonttools>=4.22.0 in c:\\users\\admin\\anacondafolder\\lib\\site-packages (from matplotlib) (4.51.0)\n",
      "Requirement already satisfied: kiwisolver>=1.3.1 in c:\\users\\admin\\anacondafolder\\lib\\site-packages (from matplotlib) (1.4.4)\n",
      "Requirement already satisfied: numpy>=1.21 in c:\\users\\admin\\anacondafolder\\lib\\site-packages (from matplotlib) (1.26.4)\n",
      "Requirement already satisfied: packaging>=20.0 in c:\\users\\admin\\anacondafolder\\lib\\site-packages (from matplotlib) (23.2)\n",
      "Requirement already satisfied: pillow>=8 in c:\\users\\admin\\anacondafolder\\lib\\site-packages (from matplotlib) (10.3.0)\n",
      "Requirement already satisfied: pyparsing>=2.3.1 in c:\\users\\admin\\anacondafolder\\lib\\site-packages (from matplotlib) (3.0.9)\n",
      "Requirement already satisfied: python-dateutil>=2.7 in c:\\users\\admin\\anacondafolder\\lib\\site-packages (from matplotlib) (2.9.0.post0)\n",
      "Requirement already satisfied: six>=1.5 in c:\\users\\admin\\anacondafolder\\lib\\site-packages (from python-dateutil>=2.7->matplotlib) (1.16.0)\n"
     ]
    }
   ],
   "source": [
    "!pip install matplotlib"
   ]
  },
  {
   "cell_type": "code",
   "execution_count": 7,
   "id": "a8975d44-cd1c-4198-bdd3-0dfcedf05da6",
   "metadata": {},
   "outputs": [
    {
     "data": {
      "image/png": "[encoded data removed]",
      "text/plain": [
       "<Figure size 640x480 with 1 Axes>"
      ]
     },
     "metadata": {},
     "output_type": "display_data"
    },
    {
     "data": {
      "image/png": "[encoded data removed]",
      "text/plain": [
       "<Figure size 640x480 with 1 Axes>"
      ]
     },
     "metadata": {},
     "output_type": "display_data"
    }
   ],
   "source": [
    "a= [1,2,3,4,5]\n",
    "\n",
    "#to plot a line plt\n",
    "\n",
    "plt.plot(a)\n",
    "plt.show() #remove unnecessary info ie.[<matplotlib.lines.Line2D at 0x1b2a0a72660>]\n",
    "\n",
    "#or semicolon at the end of plt.plot(a);\n",
    "plt.plot(a);\n"
   ]
  },
  {
   "cell_type": "code",
   "execution_count": 12,
   "id": "a27172f9-ccd1-4573-9ba0-5018bcfd1d27",
   "metadata": {},
   "outputs": [],
   "source": [
    "import numpy as np\n",
    "a= np.array([2,4,6,8,10])"
   ]
  },
  {
   "cell_type": "code",
   "execution_count": 13,
   "id": "a95ffa84-e685-4637-bfae-e143ec9687c3",
   "metadata": {},
   "outputs": [
    {
     "data": {
      "text/plain": [
       "array([3, 4, 5, 6, 7])"
      ]
     },
     "execution_count": 13,
     "metadata": {},
     "output_type": "execute_result"
    }
   ],
   "source": [
    "b = [3,4,5,6,7]\n",
    "np.array(b)"
   ]
  },
  {
   "cell_type": "code",
   "execution_count": 16,
   "id": "d1125101-0401-45fd-993c-77d877aa7305",
   "metadata": {},
   "outputs": [
    {
     "data": {
      "image/png": "[encoded data removed]",
      "text/plain": [
       "<Figure size 640x480 with 1 Axes>"
      ]
     },
     "metadata": {},
     "output_type": "display_data"
    }
   ],
   "source": [
    "plt.plot(b,a);"
   ]
  },
  {
   "cell_type": "code",
   "execution_count": 21,
   "id": "1494d55f-9d84-4fa1-9edb-2290b0160189",
   "metadata": {},
   "outputs": [
    {
     "data": {
      "text/plain": [
       "array(['jan', 'Feb', 'March', 'June', 'July'], dtype='<U5')"
      ]
     },
     "execution_count": 21,
     "metadata": {},
     "output_type": "execute_result"
    }
   ],
   "source": [
    "x= ['jan', 'Feb', 'March', 'June', 'July']\n",
    "np.array(x)"
   ]
  },
  {
   "cell_type": "code",
   "execution_count": 22,
   "id": "29de43c6-2151-482d-b221-2c486690ad48",
   "metadata": {},
   "outputs": [
    {
     "data": {
      "text/plain": [
       "array([10, 30, 50, 80, 60])"
      ]
     },
     "execution_count": 22,
     "metadata": {},
     "output_type": "execute_result"
    }
   ],
   "source": [
    "y= [10, 30, 50, 80, 60]\n",
    "np.array(y)"
   ]
  },
  {
   "cell_type": "code",
   "execution_count": 32,
   "id": "f5894a4d-e9cd-49af-8033-c9051804ceb8",
   "metadata": {},
   "outputs": [
    {
     "data": {
      "image/png": "[encoded data removed]",
      "text/plain": [
       "<Figure size 640x480 with 1 Axes>"
      ]
     },
     "metadata": {},
     "output_type": "display_data"
    }
   ],
   "source": [
    "plt.plot(x,y);\n",
    "plt.title('Months Vs Sales', color = 'b')\n",
    "plt.xlabel('Months', color = 'b')\n",
    "plt.ylabel('sales', color= 'b')\n",
    "plt.grid()"
   ]
  },
  {
   "cell_type": "code",
   "execution_count": 40,
   "id": "0594c695-8f38-4849-a793-b3c8e95b5866",
   "metadata": {
    "scrolled": true
   },
   "outputs": [
    {
     "data": {
      "text/plain": [
       "[<matplotlib.lines.Line2D at 0x1b2a7457d40>]"
      ]
     },
     "execution_count": 40,
     "metadata": {},
     "output_type": "execute_result"
    },
    {
     "data": {
      "image/png": "[encoded data removed]",
      "text/plain": [
       "<Figure size 640x480 with 2 Axes>"
      ]
     },
     "metadata": {},
     "output_type": "display_data"
    }
   ],
   "source": [
    "#subplots\n",
    "\n",
    "plt.subplot(2,2,1) #represents 2 rows , 2 columns and position 1\n",
    "plt.plot(x);\n",
    "plt.subplot(2,2,2) #represents 2 rows , 2 columns and position 2\n",
    "plt.plot(y)\n",
    "\n"
   ]
  },
  {
   "cell_type": "code",
   "execution_count": 37,
   "id": "309d091b-f710-44f9-a8de-bd4312c4c303",
   "metadata": {},
   "outputs": [
    {
     "data": {
      "image/png": "[encoded data removed]",
      "text/plain": [
       "<Figure size 1000x500 with 2 Axes>"
      ]
     },
     "metadata": {},
     "output_type": "display_data"
    }
   ],
   "source": [
    "import matplotlib.pyplot as plt\n",
    "\n",
    "fig, axs = plt.subplots(1, 2, figsize=(10, 5))  # 1 row, 2 columns\n",
    "\n",
    "axs[0].plot([1, 2, 3], [4, 5, 6])\n",
    "axs[0].set_title('First Plot')\n",
    "\n",
    "axs[1].plot([1, 2, 3], [6, 5, 4])\n",
    "axs[1].set_title('Second Plot')\n",
    "\n",
    "plt.tight_layout()  # Adjust layout to prevent overlap\n",
    "plt.show()\n"
   ]
  },
  {
   "cell_type": "code",
   "execution_count": 45,
   "id": "1f77aeb5-9e93-45bc-a707-138ffa18edb0",
   "metadata": {},
   "outputs": [],
   "source": [
    "#scatter \n",
    "#types of ananlysis\n",
    "#descriptive\n",
    "#diagnostic\n",
    "#predictive\\\n",
    "#prescriptive"
   ]
  },
  {
   "cell_type": "code",
   "execution_count": 44,
   "id": "79bf4f3a-da19-450b-ae64-50633fdb3df3",
   "metadata": {},
   "outputs": [
    {
     "data": {
      "image/png": "[encoded data removed]",
      "text/plain": [
       "<Figure size 640x480 with 1 Axes>"
      ]
     },
     "metadata": {},
     "output_type": "display_data"
    }
   ],
   "source": [
    "plt.scatter(x,y);"
   ]
  },
  {
   "cell_type": "code",
   "execution_count": 58,
   "id": "6578bf37-5b9a-4c21-8a95-af6bbbc5de6f",
   "metadata": {},
   "outputs": [],
   "source": [
    "a3= np.arange(10,20)\n",
    "    "
   ]
  },
  {
   "cell_type": "code",
   "execution_count": 59,
   "id": "767989e7-fa5b-4b60-ac1c-b120bde3c7bf",
   "metadata": {},
   "outputs": [],
   "source": [
    "a4= a3**2"
   ]
  },
  {
   "cell_type": "code",
   "execution_count": 60,
   "id": "884fe79c-9815-4b58-a637-d693ebc966b7",
   "metadata": {},
   "outputs": [
    {
     "data": {
      "image/png": "[encoded data removed]",
      "text/plain": [
       "<Figure size 640x480 with 1 Axes>"
      ]
     },
     "metadata": {},
     "output_type": "display_data"
    }
   ],
   "source": [
    "plt.scatter(a3,a4);"
   ]
  },
  {
   "cell_type": "code",
   "execution_count": 67,
   "id": "1bbea5f0-f1ec-4890-9b53-00982ff537ee",
   "metadata": {},
   "outputs": [
    {
     "data": {
      "image/png": "[encoded data removed]",
      "text/plain": [
       "<Figure size 640x480 with 1 Axes>"
      ]
     },
     "metadata": {},
     "output_type": "display_data"
    }
   ],
   "source": [
    "a5= np.array(['Jan', 'Feb', 'March', 'April','May', 'June'])\n",
    "a6= np.array([500,1000, 4000, 10000, 2000, 5900])\n",
    "plt.bar(a5,a6);"
   ]
  },
  {
   "cell_type": "code",
   "execution_count": 71,
   "id": "51576fa2-6fc7-4bfb-b4eb-d72e56a5bb0f",
   "metadata": {},
   "outputs": [
    {
     "data": {
      "image/png": "[encoded data removed]",
      "text/plain": [
       "<Figure size 640x480 with 1 Axes>"
      ]
     },
     "metadata": {},
     "output_type": "display_data"
    }
   ],
   "source": [
    "#horizontal bar\n",
    "plt.barh(a5,a6, color= 'yellow');"
   ]
  },
  {
   "cell_type": "code",
   "execution_count": 76,
   "id": "56a23dcb-024a-402e-acbe-198a90775181",
   "metadata": {},
   "outputs": [
    {
     "data": {
      "text/plain": [
       "array([ 21,  22,  23,   4,   5,   6,  77,   8,   9,  10,  31,  32,  33,\n",
       "        34,  35,  36,  38,  49,  50, 100])"
      ]
     },
     "execution_count": 76,
     "metadata": {},
     "output_type": "execute_result"
    }
   ],
   "source": [
    "x =[21,22,23,4,5,6,77,8,9,10,31,32,33,34,35,36,38,49,50,100]\n",
    "np.array(x)"
   ]
  },
  {
   "cell_type": "code",
   "execution_count": 83,
   "id": "734a758e-a52d-4249-bdb8-1583745aa0b3",
   "metadata": {},
   "outputs": [
    {
     "data": {
      "image/png": "[encoded data removed]",
      "text/plain": [
       "<Figure size 640x480 with 1 Axes>"
      ]
     },
     "metadata": {},
     "output_type": "display_data"
    }
   ],
   "source": [
    "plt.hist(x);"
   ]
  },
  {
   "cell_type": "code",
   "execution_count": 85,
   "id": "201be7c1-5d4f-4731-8eb4-9385aa5fb3b9",
   "metadata": {},
   "outputs": [
    {
     "data": {
      "image/png": "[encoded data removed]",
      "text/plain": [
       "<Figure size 640x480 with 1 Axes>"
      ]
     },
     "metadata": {},
     "output_type": "display_data"
    }
   ],
   "source": [
    "plt.hist(x, bins= 3);"
   ]
  },
  {
   "cell_type": "code",
   "execution_count": 88,
   "id": "a5206d34-3b44-4b73-8c8c-310d7056d337",
   "metadata": {},
   "outputs": [
    {
     "data": {
      "image/png": "[encoded data removed]",
      "text/plain": [
       "<Figure size 640x480 with 1 Axes>"
      ]
     },
     "metadata": {},
     "output_type": "display_data"
    }
   ],
   "source": [
    "#boxplot\n",
    "plt.boxplot(x);"
   ]
  },
  {
   "cell_type": "code",
   "execution_count": 106,
   "id": "9f6949a2-a769-4a4c-80a7-84a5dfce44f5",
   "metadata": {},
   "outputs": [
    {
     "data": {
      "image/png": "[encoded data removed]",
      "text/plain": [
       "<Figure size 640x480 with 1 Axes>"
      ]
     },
     "metadata": {},
     "output_type": "display_data"
    }
   ],
   "source": [
    "y =np.array ([35, 25, 25])\n",
    "labely = np.array(['kiwi', 'banana', 'orange'])\n",
    "explode = 0, 0.1,0\n",
    "plt.pie(y, autopct='%1.1f%%', explode = explode);\n",
    "\n",
    "plt.legend(labely);   #color and label"
   ]
  },
  {
   "cell_type": "code",
   "execution_count": 107,
   "id": "8cb67604-39bd-4e23-8f01-b90e8445ab2b",
   "metadata": {},
   "outputs": [],
   "source": [
    "#seaborn\n",
    "import seaborn as sns"
   ]
  },
  {
   "cell_type": "code",
   "execution_count": null,
   "id": "41452bed-12c6-45ed-921a-09c4704e0b8f",
   "metadata": {},
   "outputs": [],
   "source": [
    "#built on top of matplotlib"
   ]
  },
  {
   "cell_type": "code",
   "execution_count": null,
   "id": "dab8270f-7a31-4687-9eba-003ff7848feb",
   "metadata": {},
   "outputs": [],
   "source": [
    "#sns.plot()\n"
   ]
  },
  {
   "cell_type": "code",
   "execution_count": 113,
   "id": "d10ca813-9fd9-4e82-903a-79da460ae3a6",
   "metadata": {},
   "outputs": [],
   "source": [
    "import numpy as np\n",
    "import matplotlib as plt\n",
    "import seaborn as sns"
   ]
  },
  {
   "cell_type": "code",
   "execution_count": 115,
   "id": "be3433c6-f6db-487b-898f-31843acad8d1",
   "metadata": {},
   "outputs": [],
   "source": [
    "# create data\n",
    "a= np.random.normal(0,1,10)"
   ]
  },
  {
   "cell_type": "code",
   "execution_count": 121,
   "id": "bc37bc73-1dfc-4440-92f6-5c974ff7be15",
   "metadata": {},
   "outputs": [
    {
     "data": {
      "text/plain": [
       "array([0, 1, 2, 3, 4, 5, 6, 7, 8, 9])"
      ]
     },
     "execution_count": 121,
     "metadata": {},
     "output_type": "execute_result"
    }
   ],
   "source": [
    "a1 = np.arange(10)\n",
    "a1"
   ]
  },
  {
   "cell_type": "code",
   "execution_count": 117,
   "id": "a5fb0ea6-f153-45fd-8b1a-d9d372de227f",
   "metadata": {},
   "outputs": [
    {
     "data": {
      "text/plain": [
       "array([-1.40947031,  0.06282456, -0.78442869,  0.41271341, -0.87731705,\n",
       "        0.90456347, -0.48039854,  1.65842197,  0.6657718 , -0.75410534])"
      ]
     },
     "execution_count": 117,
     "metadata": {},
     "output_type": "execute_result"
    }
   ],
   "source": [
    "a"
   ]
  },
  {
   "cell_type": "code",
   "execution_count": 142,
   "id": "7d58b62f-d94a-48e9-9155-6447943167cb",
   "metadata": {},
   "outputs": [],
   "source": [
    "a1\n",
    "gender = np.array(['F' ,'F' ,'F' ,'M' ,'M' ,'F' ,'F' ,'F', 'F', 'M']) "
   ]
  },
  {
   "cell_type": "code",
   "execution_count": 137,
   "id": "c426c612-dc93-472f-af52-4ee1a7ba4ad1",
   "metadata": {},
   "outputs": [],
   "source": [
    "import matplotlib.pyplot as plt\n"
   ]
  },
  {
   "cell_type": "code",
   "execution_count": null,
   "id": "0d388f43-bbaf-46f4-899d-939fe7c54dd3",
   "metadata": {},
   "outputs": [],
   "source": []
  },
  {
   "cell_type": "code",
   "execution_count": 138,
   "id": "312f2bbf-dee7-409c-b4be-88350b46cd7d",
   "metadata": {},
   "outputs": [
    {
     "data": {
      "image/png": "[encoded data removed]",
      "text/plain": [
       "<Figure size 640x480 with 1 Axes>"
      ]
     },
     "metadata": {},
     "output_type": "display_data"
    }
   ],
   "source": [
    "sns.scatterplot(x=a, y=a1, hue=gender)\n",
    "plt.title('Salary')\n",
    "plt.xlabel('X-axis Label')  # Add appropriate label for x-axis\n",
    "plt.ylabel('Y-axis Label')  # Add appropriate label for y-axis\n",
    "plt.legend(title='Gender')  # Optional: add a legend title\n",
    "plt.show()"
   ]
  },
  {
   "cell_type": "code",
   "execution_count": 139,
   "id": "725ba90c-d794-46d9-8aa5-fffc66263b7e",
   "metadata": {},
   "outputs": [],
   "source": [
    "#barplot"
   ]
  },
  {
   "cell_type": "code",
   "execution_count": 140,
   "id": "e0ad9cae-d981-441a-9326-37c92e10caba",
   "metadata": {},
   "outputs": [
    {
     "data": {
      "image/png": "[encoded data removed]",
      "text/plain": [
       "<Figure size 640x480 with 1 Axes>"
      ]
     },
     "metadata": {},
     "output_type": "display_data"
    }
   ],
   "source": [
    "sns.barplot(x=a, y=a1);"
   ]
  },
  {
   "cell_type": "code",
   "execution_count": 144,
   "id": "c60fb6a8-9476-46c4-a93d-c5166a8265dd",
   "metadata": {},
   "outputs": [
    {
     "data": {
      "image/png": "[encoded data removed]",
      "text/plain": [
       "<Figure size 640x480 with 1 Axes>"
      ]
     },
     "metadata": {},
     "output_type": "display_data"
    }
   ],
   "source": [
    "#countplot\n",
    "sns.countplot(x=gender);\n"
   ]
  },
  {
   "cell_type": "code",
   "execution_count": 146,
   "id": "0fbe2ab3-4269-4ea2-b00d-ee47a138382a",
   "metadata": {},
   "outputs": [
    {
     "data": {
      "image/png": "[encoded data removed]",
      "text/plain": [
       "<Figure size 640x480 with 1 Axes>"
      ]
     },
     "metadata": {},
     "output_type": "display_data"
    }
   ],
   "source": [
    "sns.boxplot(x=a, y = a1);"
   ]
  },
  {
   "cell_type": "code",
   "execution_count": 150,
   "id": "14b9c7d9-53fe-4fb4-96bc-9c8ab7a80e60",
   "metadata": {},
   "outputs": [
    {
     "data": {
      "text/plain": [
       "<Axes: ylabel='Density'>"
      ]
     },
     "execution_count": 150,
     "metadata": {},
     "output_type": "execute_result"
    },
    {
     "data": {
      "image/png": "[encoded data removed]",
      "text/plain": [
       "<Figure size 640x480 with 1 Axes>"
      ]
     },
     "metadata": {},
     "output_type": "display_data"
    }
   ],
   "source": [
    "a3=[1,4,5,6,89,5,6,78,100]\n",
    "sns.kdeplot(x=a3)"
   ]
  },
  {
   "cell_type": "code",
   "execution_count": 153,
   "id": "bdf8e1d6-ae55-4783-a0da-917b5667b77f",
   "metadata": {},
   "outputs": [
    {
     "name": "stdout",
     "output_type": "stream",
     "text": [
      "['anagrams', 'anscombe', 'attention', 'brain_networks', 'car_crashes', 'diamonds', 'dots', 'dowjones', 'exercise', 'flights', 'fmri', 'geyser', 'glue', 'healthexp', 'iris', 'mpg', 'penguins', 'planets', 'seaice', 'taxis', 'tips', 'titanic'] "
     ]
    }
   ],
   "source": [
    "print(sns.get_dataset_names(), end= ' ')"
   ]
  },
  {
   "cell_type": "raw",
   "id": "1a3f5cec-b66a-454f-a96a-8968323dd444",
   "metadata": {},
   "source": [
    "df= sns.load_dataset('tips')\n",
    "df.head()"
   ]
  },
  {
   "cell_type": "code",
   "execution_count": 9,
   "id": "4402dd02-cadc-47be-af78-b6c5a44a671d",
   "metadata": {
    "scrolled": true
   },
   "outputs": [
    {
     "data": {
      "text/html": [
       "<div>\n",
       "<style scoped>\n",
       "    .dataframe tbody tr th:only-of-type {\n",
       "        vertical-align: middle;\n",
       "    }\n",
       "\n",
       "    .dataframe tbody tr th {\n",
       "        vertical-align: top;\n",
       "    }\n",
       "\n",
       "    .dataframe thead th {\n",
       "        text-align: right;\n",
       "    }\n",
       "</style>\n",
       "<table border=\"1\" class=\"dataframe\">\n",
       "  <thead>\n",
       "    <tr style=\"text-align: right;\">\n",
       "      <th></th>\n",
       "      <th>total_bill</th>\n",
       "      <th>tip</th>\n",
       "      <th>sex</th>\n",
       "      <th>smoker</th>\n",
       "      <th>day</th>\n",
       "      <th>time</th>\n",
       "      <th>size</th>\n",
       "    </tr>\n",
       "  </thead>\n",
       "  <tbody>\n",
       "    <tr>\n",
       "      <th>0</th>\n",
       "      <td>16.99</td>\n",
       "      <td>1.01</td>\n",
       "      <td>Female</td>\n",
       "      <td>No</td>\n",
       "      <td>Sun</td>\n",
       "      <td>Dinner</td>\n",
       "      <td>2</td>\n",
       "    </tr>\n",
       "    <tr>\n",
       "      <th>1</th>\n",
       "      <td>10.34</td>\n",
       "      <td>1.66</td>\n",
       "      <td>Male</td>\n",
       "      <td>No</td>\n",
       "      <td>Sun</td>\n",
       "      <td>Dinner</td>\n",
       "      <td>3</td>\n",
       "    </tr>\n",
       "    <tr>\n",
       "      <th>2</th>\n",
       "      <td>21.01</td>\n",
       "      <td>3.50</td>\n",
       "      <td>Male</td>\n",
       "      <td>No</td>\n",
       "      <td>Sun</td>\n",
       "      <td>Dinner</td>\n",
       "      <td>3</td>\n",
       "    </tr>\n",
       "    <tr>\n",
       "      <th>3</th>\n",
       "      <td>23.68</td>\n",
       "      <td>3.31</td>\n",
       "      <td>Male</td>\n",
       "      <td>No</td>\n",
       "      <td>Sun</td>\n",
       "      <td>Dinner</td>\n",
       "      <td>2</td>\n",
       "    </tr>\n",
       "    <tr>\n",
       "      <th>4</th>\n",
       "      <td>24.59</td>\n",
       "      <td>3.61</td>\n",
       "      <td>Female</td>\n",
       "      <td>No</td>\n",
       "      <td>Sun</td>\n",
       "      <td>Dinner</td>\n",
       "      <td>4</td>\n",
       "    </tr>\n",
       "  </tbody>\n",
       "</table>\n",
       "</div>"
      ],
      "text/plain": [
       "   total_bill   tip     sex smoker  day    time  size\n",
       "0       16.99  1.01  Female     No  Sun  Dinner     2\n",
       "1       10.34  1.66    Male     No  Sun  Dinner     3\n",
       "2       21.01  3.50    Male     No  Sun  Dinner     3\n",
       "3       23.68  3.31    Male     No  Sun  Dinner     2\n",
       "4       24.59  3.61  Female     No  Sun  Dinner     4"
      ]
     },
     "execution_count": 9,
     "metadata": {},
     "output_type": "execute_result"
    }
   ],
   "source": [
    "import seaborn as sns\n",
    "df= sns.load_dataset('tips')\n",
    "df.head()"
   ]
  },
  {
   "cell_type": "code",
   "execution_count": 12,
   "id": "fa930ee7-2503-46af-bb73-5cffe1c9df5c",
   "metadata": {},
   "outputs": [
    {
     "data": {
      "image/png": "[encoded data removed]",
      "text/plain": [
       "<Figure size 640x480 with 1 Axes>"
      ]
     },
     "metadata": {},
     "output_type": "display_data"
    }
   ],
   "source": [
    "sns.scatterplot(x= 'tip', y = 'total_bill', data= df);"
   ]
  },
  {
   "cell_type": "code",
   "execution_count": 13,
   "id": "6be6853c-5626-4121-b0f2-d2aac984d990",
   "metadata": {},
   "outputs": [
    {
     "data": {
      "image/png": "[encoded data removed]",
      "text/plain": [
       "<Figure size 640x480 with 1 Axes>"
      ]
     },
     "metadata": {},
     "output_type": "display_data"
    }
   ],
   "source": [
    "sns.scatterplot(x= 'tip', y = 'total_bill', hue = 'sex', data = df);"
   ]
  },
  {
   "cell_type": "code",
   "execution_count": 7,
   "id": "3f942725-8173-4edd-a376-ad1cadd5a523",
   "metadata": {},
   "outputs": [
    {
     "data": {
      "text/plain": [
       "<Axes: xlabel='tip', ylabel='total_bill'>"
      ]
     },
     "execution_count": 7,
     "metadata": {},
     "output_type": "execute_result"
    },
    {
     "data": {
      "image/png": "[encoded data removed]",
      "text/plain": [
       "<Figure size 640x480 with 1 Axes>"
      ]
     },
     "metadata": {},
     "output_type": "display_data"
    }
   ],
   "source": [
    "sns.scatterplot(x= 'tip', y = 'total_bill', hue = 'smoker', data = df)"
   ]
  },
  {
   "cell_type": "code",
   "execution_count": 14,
   "id": "0afe1364-c6ee-4c58-81a2-03bf28bcc136",
   "metadata": {},
   "outputs": [
    {
     "data": {
      "text/html": [
       "<div>\n",
       "<style scoped>\n",
       "    .dataframe tbody tr th:only-of-type {\n",
       "        vertical-align: middle;\n",
       "    }\n",
       "\n",
       "    .dataframe tbody tr th {\n",
       "        vertical-align: top;\n",
       "    }\n",
       "\n",
       "    .dataframe thead th {\n",
       "        text-align: right;\n",
       "    }\n",
       "</style>\n",
       "<table border=\"1\" class=\"dataframe\">\n",
       "  <thead>\n",
       "    <tr style=\"text-align: right;\">\n",
       "      <th></th>\n",
       "      <th>total_bill</th>\n",
       "      <th>tip</th>\n",
       "      <th>size</th>\n",
       "    </tr>\n",
       "  </thead>\n",
       "  <tbody>\n",
       "    <tr>\n",
       "      <th>0</th>\n",
       "      <td>16.99</td>\n",
       "      <td>1.01</td>\n",
       "      <td>2</td>\n",
       "    </tr>\n",
       "    <tr>\n",
       "      <th>1</th>\n",
       "      <td>10.34</td>\n",
       "      <td>1.66</td>\n",
       "      <td>3</td>\n",
       "    </tr>\n",
       "    <tr>\n",
       "      <th>2</th>\n",
       "      <td>21.01</td>\n",
       "      <td>3.50</td>\n",
       "      <td>3</td>\n",
       "    </tr>\n",
       "    <tr>\n",
       "      <th>3</th>\n",
       "      <td>23.68</td>\n",
       "      <td>3.31</td>\n",
       "      <td>2</td>\n",
       "    </tr>\n",
       "    <tr>\n",
       "      <th>4</th>\n",
       "      <td>24.59</td>\n",
       "      <td>3.61</td>\n",
       "      <td>4</td>\n",
       "    </tr>\n",
       "    <tr>\n",
       "      <th>...</th>\n",
       "      <td>...</td>\n",
       "      <td>...</td>\n",
       "      <td>...</td>\n",
       "    </tr>\n",
       "    <tr>\n",
       "      <th>239</th>\n",
       "      <td>29.03</td>\n",
       "      <td>5.92</td>\n",
       "      <td>3</td>\n",
       "    </tr>\n",
       "    <tr>\n",
       "      <th>240</th>\n",
       "      <td>27.18</td>\n",
       "      <td>2.00</td>\n",
       "      <td>2</td>\n",
       "    </tr>\n",
       "    <tr>\n",
       "      <th>241</th>\n",
       "      <td>22.67</td>\n",
       "      <td>2.00</td>\n",
       "      <td>2</td>\n",
       "    </tr>\n",
       "    <tr>\n",
       "      <th>242</th>\n",
       "      <td>17.82</td>\n",
       "      <td>1.75</td>\n",
       "      <td>2</td>\n",
       "    </tr>\n",
       "    <tr>\n",
       "      <th>243</th>\n",
       "      <td>18.78</td>\n",
       "      <td>3.00</td>\n",
       "      <td>2</td>\n",
       "    </tr>\n",
       "  </tbody>\n",
       "</table>\n",
       "<p>244 rows × 3 columns</p>\n",
       "</div>"
      ],
      "text/plain": [
       "     total_bill   tip  size\n",
       "0         16.99  1.01     2\n",
       "1         10.34  1.66     3\n",
       "2         21.01  3.50     3\n",
       "3         23.68  3.31     2\n",
       "4         24.59  3.61     4\n",
       "..          ...   ...   ...\n",
       "239       29.03  5.92     3\n",
       "240       27.18  2.00     2\n",
       "241       22.67  2.00     2\n",
       "242       17.82  1.75     2\n",
       "243       18.78  3.00     2\n",
       "\n",
       "[244 rows x 3 columns]"
      ]
     },
     "execution_count": 14,
     "metadata": {},
     "output_type": "execute_result"
    }
   ],
   "source": [
    "#correlation\n",
    "df1= df[['total_bill', 'tip', 'size']]\n",
    "df1"
   ]
  },
  {
   "cell_type": "code",
   "execution_count": 21,
   "id": "771df42f-6d64-43a4-b937-1fd4f54285b4",
   "metadata": {},
   "outputs": [
    {
     "data": {
      "text/html": [
       "<div>\n",
       "<style scoped>\n",
       "    .dataframe tbody tr th:only-of-type {\n",
       "        vertical-align: middle;\n",
       "    }\n",
       "\n",
       "    .dataframe tbody tr th {\n",
       "        vertical-align: top;\n",
       "    }\n",
       "\n",
       "    .dataframe thead th {\n",
       "        text-align: right;\n",
       "    }\n",
       "</style>\n",
       "<table border=\"1\" class=\"dataframe\">\n",
       "  <thead>\n",
       "    <tr style=\"text-align: right;\">\n",
       "      <th></th>\n",
       "      <th>total_bill</th>\n",
       "      <th>tip</th>\n",
       "      <th>size</th>\n",
       "    </tr>\n",
       "  </thead>\n",
       "  <tbody>\n",
       "    <tr>\n",
       "      <th>total_bill</th>\n",
       "      <td>1.000000</td>\n",
       "      <td>0.675734</td>\n",
       "      <td>0.598315</td>\n",
       "    </tr>\n",
       "    <tr>\n",
       "      <th>tip</th>\n",
       "      <td>0.675734</td>\n",
       "      <td>1.000000</td>\n",
       "      <td>0.489299</td>\n",
       "    </tr>\n",
       "    <tr>\n",
       "      <th>size</th>\n",
       "      <td>0.598315</td>\n",
       "      <td>0.489299</td>\n",
       "      <td>1.000000</td>\n",
       "    </tr>\n",
       "  </tbody>\n",
       "</table>\n",
       "</div>"
      ],
      "text/plain": [
       "            total_bill       tip      size\n",
       "total_bill    1.000000  0.675734  0.598315\n",
       "tip           0.675734  1.000000  0.489299\n",
       "size          0.598315  0.489299  1.000000"
      ]
     },
     "execution_count": 21,
     "metadata": {},
     "output_type": "execute_result"
    }
   ],
   "source": [
    "corr= df1.corr()\n",
    "corr"
   ]
  },
  {
   "cell_type": "code",
   "execution_count": 27,
   "id": "1112fbed-b55f-4b21-abe8-4732108b7bd8",
   "metadata": {},
   "outputs": [
    {
     "data": {
      "text/plain": [
       "<Axes: >"
      ]
     },
     "execution_count": 27,
     "metadata": {},
     "output_type": "execute_result"
    },
    {
     "data": {
      "image/png": "[encoded data removed]",
      "text/plain": [
       "<Figure size 640x480 with 2 Axes>"
      ]
     },
     "metadata": {},
     "output_type": "display_data"
    }
   ],
   "source": [
    "sns.heatmap(corr,annot= True, fmt= '.1', cmap= 'Greens')"
   ]
  },
  {
   "cell_type": "code",
   "execution_count": 24,
   "id": "24b900f9-a507-4cab-9d6c-0aac4edf6935",
   "metadata": {},
   "outputs": [
    {
     "data": {
      "text/plain": [
       "['magma',\n",
       " 'inferno',\n",
       " 'plasma',\n",
       " 'viridis',\n",
       " 'cividis',\n",
       " 'twilight',\n",
       " 'twilight_shifted',\n",
       " 'turbo',\n",
       " 'Blues',\n",
       " 'BrBG',\n",
       " 'BuGn',\n",
       " 'BuPu',\n",
       " 'CMRmap',\n",
       " 'GnBu',\n",
       " 'Greens',\n",
       " 'Greys',\n",
       " 'OrRd',\n",
       " 'Oranges',\n",
       " 'PRGn',\n",
       " 'PiYG',\n",
       " 'PuBu',\n",
       " 'PuBuGn',\n",
       " 'PuOr',\n",
       " 'PuRd',\n",
       " 'Purples',\n",
       " 'RdBu',\n",
       " 'RdGy',\n",
       " 'RdPu',\n",
       " 'RdYlBu',\n",
       " 'RdYlGn',\n",
       " 'Reds',\n",
       " 'Spectral',\n",
       " 'Wistia',\n",
       " 'YlGn',\n",
       " 'YlGnBu',\n",
       " 'YlOrBr',\n",
       " 'YlOrRd',\n",
       " 'afmhot',\n",
       " 'autumn',\n",
       " 'binary',\n",
       " 'bone',\n",
       " 'brg',\n",
       " 'bwr',\n",
       " 'cool',\n",
       " 'coolwarm',\n",
       " 'copper',\n",
       " 'cubehelix',\n",
       " 'flag',\n",
       " 'gist_earth',\n",
       " 'gist_gray',\n",
       " 'gist_heat',\n",
       " 'gist_ncar',\n",
       " 'gist_rainbow',\n",
       " 'gist_stern',\n",
       " 'gist_yarg',\n",
       " 'gnuplot',\n",
       " 'gnuplot2',\n",
       " 'gray',\n",
       " 'hot',\n",
       " 'hsv',\n",
       " 'jet',\n",
       " 'nipy_spectral',\n",
       " 'ocean',\n",
       " 'pink',\n",
       " 'prism',\n",
       " 'rainbow',\n",
       " 'seismic',\n",
       " 'spring',\n",
       " 'summer',\n",
       " 'terrain',\n",
       " 'winter',\n",
       " 'Accent',\n",
       " 'Dark2',\n",
       " 'Paired',\n",
       " 'Pastel1',\n",
       " 'Pastel2',\n",
       " 'Set1',\n",
       " 'Set2',\n",
       " 'Set3',\n",
       " 'tab10',\n",
       " 'tab20',\n",
       " 'tab20b',\n",
       " 'tab20c',\n",
       " 'grey',\n",
       " 'gist_grey',\n",
       " 'gist_yerg',\n",
       " 'Grays',\n",
       " 'magma_r',\n",
       " 'inferno_r',\n",
       " 'plasma_r',\n",
       " 'viridis_r',\n",
       " 'cividis_r',\n",
       " 'twilight_r',\n",
       " 'twilight_shifted_r',\n",
       " 'turbo_r',\n",
       " 'Blues_r',\n",
       " 'BrBG_r',\n",
       " 'BuGn_r',\n",
       " 'BuPu_r',\n",
       " 'CMRmap_r',\n",
       " 'GnBu_r',\n",
       " 'Greens_r',\n",
       " 'Greys_r',\n",
       " 'OrRd_r',\n",
       " 'Oranges_r',\n",
       " 'PRGn_r',\n",
       " 'PiYG_r',\n",
       " 'PuBu_r',\n",
       " 'PuBuGn_r',\n",
       " 'PuOr_r',\n",
       " 'PuRd_r',\n",
       " 'Purples_r',\n",
       " 'RdBu_r',\n",
       " 'RdGy_r',\n",
       " 'RdPu_r',\n",
       " 'RdYlBu_r',\n",
       " 'RdYlGn_r',\n",
       " 'Reds_r',\n",
       " 'Spectral_r',\n",
       " 'Wistia_r',\n",
       " 'YlGn_r',\n",
       " 'YlGnBu_r',\n",
       " 'YlOrBr_r',\n",
       " 'YlOrRd_r',\n",
       " 'afmhot_r',\n",
       " 'autumn_r',\n",
       " 'binary_r',\n",
       " 'bone_r',\n",
       " 'brg_r',\n",
       " 'bwr_r',\n",
       " 'cool_r',\n",
       " 'coolwarm_r',\n",
       " 'copper_r',\n",
       " 'cubehelix_r',\n",
       " 'flag_r',\n",
       " 'gist_earth_r',\n",
       " 'gist_gray_r',\n",
       " 'gist_heat_r',\n",
       " 'gist_ncar_r',\n",
       " 'gist_rainbow_r',\n",
       " 'gist_stern_r',\n",
       " 'gist_yarg_r',\n",
       " 'gnuplot_r',\n",
       " 'gnuplot2_r',\n",
       " 'gray_r',\n",
       " 'hot_r',\n",
       " 'hsv_r',\n",
       " 'jet_r',\n",
       " 'nipy_spectral_r',\n",
       " 'ocean_r',\n",
       " 'pink_r',\n",
       " 'prism_r',\n",
       " 'rainbow_r',\n",
       " 'seismic_r',\n",
       " 'spring_r',\n",
       " 'summer_r',\n",
       " 'terrain_r',\n",
       " 'winter_r',\n",
       " 'Accent_r',\n",
       " 'Dark2_r',\n",
       " 'Paired_r',\n",
       " 'Pastel1_r',\n",
       " 'Pastel2_r',\n",
       " 'Set1_r',\n",
       " 'Set2_r',\n",
       " 'Set3_r',\n",
       " 'tab10_r',\n",
       " 'tab20_r',\n",
       " 'tab20b_r',\n",
       " 'tab20c_r',\n",
       " 'rocket',\n",
       " 'rocket_r',\n",
       " 'mako',\n",
       " 'mako_r',\n",
       " 'icefire',\n",
       " 'icefire_r',\n",
       " 'vlag',\n",
       " 'vlag_r',\n",
       " 'flare',\n",
       " 'flare_r',\n",
       " 'crest',\n",
       " 'crest_r']"
      ]
     },
     "execution_count": 24,
     "metadata": {},
     "output_type": "execute_result"
    }
   ],
   "source": [
    "import matplotlib as plt\n",
    "plt.colormaps()\n"
   ]
  },
  {
   "cell_type": "code",
   "execution_count": 30,
   "id": "19b26abd-7faf-49d4-b8f4-1b0450f6e183",
   "metadata": {},
   "outputs": [
    {
     "data": {
      "image/png": "[encoded data removed]",
      "text/plain": [
       "<Figure size 500x500 with 1 Axes>"
      ]
     },
     "metadata": {},
     "output_type": "display_data"
    }
   ],
   "source": [
    "sns.displot(x = 'tip', kde= True, data= df);"
   ]
  },
  {
   "cell_type": "code",
   "execution_count": 32,
   "id": "6417836b-1d18-4f00-9741-e8413a836505",
   "metadata": {},
   "outputs": [
    {
     "data": {
      "image/png": "[encoded data removed]",
      "text/plain": [
       "<Figure size 640x480 with 1 Axes>"
      ]
     },
     "metadata": {},
     "output_type": "display_data"
    }
   ],
   "source": [
    "sns.kdeplot(x= 'tip', data= df);"
   ]
  },
  {
   "cell_type": "code",
   "execution_count": 35,
   "id": "185eda3c-85ce-4ec8-bc83-e7f5e4b002d8",
   "metadata": {
    "scrolled": true
   },
   "outputs": [
    {
     "data": {
      "text/plain": [
       "<Axes: ylabel='total_bill'>"
      ]
     },
     "execution_count": 35,
     "metadata": {},
     "output_type": "execute_result"
    },
    {
     "data": {
      "image/png": "[encoded data removed]",
      "text/plain": [
       "<Figure size 640x480 with 1 Axes>"
      ]
     },
     "metadata": {},
     "output_type": "display_data"
    }
   ],
   "source": [
    "sns.violinplot(y= 'total_bill', hue= 'sex', data= df)"
   ]
  },
  {
   "cell_type": "code",
   "execution_count": 36,
   "id": "44445c23-7cc6-498c-a6dd-6f8e29653dcd",
   "metadata": {},
   "outputs": [],
   "source": [
    "import pandas as pd"
   ]
  },
  {
   "cell_type": "code",
   "execution_count": 37,
   "id": "5c6ce985-2e0f-489b-9a60-c251a1195004",
   "metadata": {},
   "outputs": [
    {
     "ename": "FileNotFoundError",
     "evalue": "[Errno 2] No such file or directory: '.cities.xslx'",
     "output_type": "error",
     "traceback": [
      "\u001b[1;31m---------------------------------------------------------------------------\u001b[0m",
      "\u001b[1;31mFileNotFoundError\u001b[0m                         Traceback (most recent call last)",
      "Cell \u001b[1;32mIn[37], line 1\u001b[0m\n\u001b[1;32m----> 1\u001b[0m df1\u001b[38;5;241m=\u001b[39m pd\u001b[38;5;241m.\u001b[39mread_excel(\u001b[38;5;124m'\u001b[39m\u001b[38;5;124m.cities.xslx\u001b[39m\u001b[38;5;124m'\u001b[39m)\n",
      "File \u001b[1;32m~\\anacondafolder\\Lib\\site-packages\\pandas\\io\\excel\\_base.py:495\u001b[0m, in \u001b[0;36mread_excel\u001b[1;34m(io, sheet_name, header, names, index_col, usecols, dtype, engine, converters, true_values, false_values, skiprows, nrows, na_values, keep_default_na, na_filter, verbose, parse_dates, date_parser, date_format, thousands, decimal, comment, skipfooter, storage_options, dtype_backend, engine_kwargs)\u001b[0m\n\u001b[0;32m    493\u001b[0m \u001b[38;5;28;01mif\u001b[39;00m \u001b[38;5;129;01mnot\u001b[39;00m \u001b[38;5;28misinstance\u001b[39m(io, ExcelFile):\n\u001b[0;32m    494\u001b[0m     should_close \u001b[38;5;241m=\u001b[39m \u001b[38;5;28;01mTrue\u001b[39;00m\n\u001b[1;32m--> 495\u001b[0m     io \u001b[38;5;241m=\u001b[39m ExcelFile(\n\u001b[0;32m    496\u001b[0m         io,\n\u001b[0;32m    497\u001b[0m         storage_options\u001b[38;5;241m=\u001b[39mstorage_options,\n\u001b[0;32m    498\u001b[0m         engine\u001b[38;5;241m=\u001b[39mengine,\n\u001b[0;32m    499\u001b[0m         engine_kwargs\u001b[38;5;241m=\u001b[39mengine_kwargs,\n\u001b[0;32m    500\u001b[0m     )\n\u001b[0;32m    501\u001b[0m \u001b[38;5;28;01melif\u001b[39;00m engine \u001b[38;5;129;01mand\u001b[39;00m engine \u001b[38;5;241m!=\u001b[39m io\u001b[38;5;241m.\u001b[39mengine:\n\u001b[0;32m    502\u001b[0m     \u001b[38;5;28;01mraise\u001b[39;00m \u001b[38;5;167;01mValueError\u001b[39;00m(\n\u001b[0;32m    503\u001b[0m         \u001b[38;5;124m\"\u001b[39m\u001b[38;5;124mEngine should not be specified when passing \u001b[39m\u001b[38;5;124m\"\u001b[39m\n\u001b[0;32m    504\u001b[0m         \u001b[38;5;124m\"\u001b[39m\u001b[38;5;124man ExcelFile - ExcelFile already has the engine set\u001b[39m\u001b[38;5;124m\"\u001b[39m\n\u001b[0;32m    505\u001b[0m     )\n",
      "File \u001b[1;32m~\\anacondafolder\\Lib\\site-packages\\pandas\\io\\excel\\_base.py:1550\u001b[0m, in \u001b[0;36mExcelFile.__init__\u001b[1;34m(self, path_or_buffer, engine, storage_options, engine_kwargs)\u001b[0m\n\u001b[0;32m   1548\u001b[0m     ext \u001b[38;5;241m=\u001b[39m \u001b[38;5;124m\"\u001b[39m\u001b[38;5;124mxls\u001b[39m\u001b[38;5;124m\"\u001b[39m\n\u001b[0;32m   1549\u001b[0m \u001b[38;5;28;01melse\u001b[39;00m:\n\u001b[1;32m-> 1550\u001b[0m     ext \u001b[38;5;241m=\u001b[39m inspect_excel_format(\n\u001b[0;32m   1551\u001b[0m         content_or_path\u001b[38;5;241m=\u001b[39mpath_or_buffer, storage_options\u001b[38;5;241m=\u001b[39mstorage_options\n\u001b[0;32m   1552\u001b[0m     )\n\u001b[0;32m   1553\u001b[0m     \u001b[38;5;28;01mif\u001b[39;00m ext \u001b[38;5;129;01mis\u001b[39;00m \u001b[38;5;28;01mNone\u001b[39;00m:\n\u001b[0;32m   1554\u001b[0m         \u001b[38;5;28;01mraise\u001b[39;00m \u001b[38;5;167;01mValueError\u001b[39;00m(\n\u001b[0;32m   1555\u001b[0m             \u001b[38;5;124m\"\u001b[39m\u001b[38;5;124mExcel file format cannot be determined, you must specify \u001b[39m\u001b[38;5;124m\"\u001b[39m\n\u001b[0;32m   1556\u001b[0m             \u001b[38;5;124m\"\u001b[39m\u001b[38;5;124man engine manually.\u001b[39m\u001b[38;5;124m\"\u001b[39m\n\u001b[0;32m   1557\u001b[0m         )\n",
      "File \u001b[1;32m~\\anacondafolder\\Lib\\site-packages\\pandas\\io\\excel\\_base.py:1402\u001b[0m, in \u001b[0;36minspect_excel_format\u001b[1;34m(content_or_path, storage_options)\u001b[0m\n\u001b[0;32m   1399\u001b[0m \u001b[38;5;28;01mif\u001b[39;00m \u001b[38;5;28misinstance\u001b[39m(content_or_path, \u001b[38;5;28mbytes\u001b[39m):\n\u001b[0;32m   1400\u001b[0m     content_or_path \u001b[38;5;241m=\u001b[39m BytesIO(content_or_path)\n\u001b[1;32m-> 1402\u001b[0m \u001b[38;5;28;01mwith\u001b[39;00m get_handle(\n\u001b[0;32m   1403\u001b[0m     content_or_path, \u001b[38;5;124m\"\u001b[39m\u001b[38;5;124mrb\u001b[39m\u001b[38;5;124m\"\u001b[39m, storage_options\u001b[38;5;241m=\u001b[39mstorage_options, is_text\u001b[38;5;241m=\u001b[39m\u001b[38;5;28;01mFalse\u001b[39;00m\n\u001b[0;32m   1404\u001b[0m ) \u001b[38;5;28;01mas\u001b[39;00m handle:\n\u001b[0;32m   1405\u001b[0m     stream \u001b[38;5;241m=\u001b[39m handle\u001b[38;5;241m.\u001b[39mhandle\n\u001b[0;32m   1406\u001b[0m     stream\u001b[38;5;241m.\u001b[39mseek(\u001b[38;5;241m0\u001b[39m)\n",
      "File \u001b[1;32m~\\anacondafolder\\Lib\\site-packages\\pandas\\io\\common.py:882\u001b[0m, in \u001b[0;36mget_handle\u001b[1;34m(path_or_buf, mode, encoding, compression, memory_map, is_text, errors, storage_options)\u001b[0m\n\u001b[0;32m    873\u001b[0m         handle \u001b[38;5;241m=\u001b[39m \u001b[38;5;28mopen\u001b[39m(\n\u001b[0;32m    874\u001b[0m             handle,\n\u001b[0;32m    875\u001b[0m             ioargs\u001b[38;5;241m.\u001b[39mmode,\n\u001b[1;32m   (...)\u001b[0m\n\u001b[0;32m    878\u001b[0m             newline\u001b[38;5;241m=\u001b[39m\u001b[38;5;124m\"\u001b[39m\u001b[38;5;124m\"\u001b[39m,\n\u001b[0;32m    879\u001b[0m         )\n\u001b[0;32m    880\u001b[0m     \u001b[38;5;28;01melse\u001b[39;00m:\n\u001b[0;32m    881\u001b[0m         \u001b[38;5;66;03m# Binary mode\u001b[39;00m\n\u001b[1;32m--> 882\u001b[0m         handle \u001b[38;5;241m=\u001b[39m \u001b[38;5;28mopen\u001b[39m(handle, ioargs\u001b[38;5;241m.\u001b[39mmode)\n\u001b[0;32m    883\u001b[0m     handles\u001b[38;5;241m.\u001b[39mappend(handle)\n\u001b[0;32m    885\u001b[0m \u001b[38;5;66;03m# Convert BytesIO or file objects passed with an encoding\u001b[39;00m\n",
      "\u001b[1;31mFileNotFoundError\u001b[0m: [Errno 2] No such file or directory: '.cities.xslx'"
     ]
    }
   ],
   "source": [
    "df1= pd.read_excel('.cities.xslx')"
   ]
  },
  {
   "cell_type": "code",
   "execution_count": null,
   "id": "c8df0ad3-92ca-47b6-bcda-f042eb013443",
   "metadata": {},
   "outputs": [],
   "source": []
  }
 ],
 "metadata": {
  "kernelspec": {
   "display_name": "Python 3 (ipykernel)",
   "language": "python",
   "name": "python3"
  },
  "language_info": {
   "codemirror_mode": {
    "name": "ipython",
    "version": 3
   },
   "file_extension": ".py",
   "mimetype": "text/x-python",
   "name": "python",
   "nbconvert_exporter": "python",
   "pygments_lexer": "ipython3",
   "version": "3.12.4"
  }
 },
 "nbformat": 4,
 "nbformat_minor": 5
}
